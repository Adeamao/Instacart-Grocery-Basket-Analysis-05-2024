{
 "cells": [
  {
   "cell_type": "markdown",
   "id": "28c19303-c592-4e6c-a038-1bde97bab476",
   "metadata": {},
   "source": [
    "# Import libraries"
   ]
  },
  {
   "cell_type": "markdown",
   "id": "a7b11de9-ee00-4f20-aabf-8092456b4b5a",
   "metadata": {},
   "source": [
    "# Import libraries"
   ]
  },
  {
   "cell_type": "code",
   "execution_count": 1,
   "id": "ae0deacb-70ff-472e-abd8-aa1db2fcc153",
   "metadata": {},
   "outputs": [],
   "source": [
    "import pandas as pd\n",
    "import numpy as np\n",
    "import os\n",
    "import matplotlib.pyplot as plt\n",
    "import seaborn as sns\n",
    "import scipy"
   ]
  },
  {
   "cell_type": "markdown",
   "id": "a0d05203-870a-4840-b9b8-df1d2f3c3904",
   "metadata": {},
   "source": [
    "# Define path to the data folder"
   ]
  },
  {
   "cell_type": "markdown",
   "id": "35dc2d72-9cc4-4884-81e3-ad8923fc37c3",
   "metadata": {},
   "source": [
    "# Define path to the data folder"
   ]
  },
  {
   "cell_type": "code",
   "execution_count": 26,
   "id": "d8a8382c-e3aa-4ce7-bbdc-efcc8cde038f",
   "metadata": {},
   "outputs": [],
   "source": [
    "# Define the base path to the project folder\n",
    "\n",
    "base_path = r'C:\\Users\\New User\\OneDrive\\Documents\\05-2024 Instacart Basket Analysis'"
   ]
  },
  {
   "cell_type": "code",
   "execution_count": 27,
   "id": "ebd4b33f-99ba-406e-a641-cd7824718f0d",
   "metadata": {},
   "outputs": [],
   "source": [
    "# Define the path to the 'Prepared Data' folder\n",
    "\n",
    "prepared_data_path = os.path.join(base_path, '02 Data', 'Prepared Data')"
   ]
  },
  {
   "cell_type": "code",
   "execution_count": 28,
   "id": "8fd3de76-5c34-486e-9574-d2f38aaf22d3",
   "metadata": {},
   "outputs": [],
   "source": [
    "# Define the path to the 'Visualizations' folder\n",
    "\n",
    "visualizations_path = os.path.join(base_path, '04 Analysis', 'Visualizations')"
   ]
  },
  {
   "cell_type": "markdown",
   "id": "70bc495f-bacd-4bfd-bf3f-37fa65f774da",
   "metadata": {},
   "source": [
    "# Load the dataframe"
   ]
  },
  {
   "cell_type": "code",
   "execution_count": 30,
   "id": "648a255c-49ca-4bc5-9149-ae348ff5e0dc",
   "metadata": {},
   "outputs": [],
   "source": [
    "# Load the orders_products_merged_updated.pkl dataframe\n",
    "\n",
    "ords_prods_merge = pd.read_pickle(os.path.join(prepared_data_path, 'orders_products_merged_updated.pkl'))"
   ]
  },
  {
   "cell_type": "markdown",
   "id": "cd9b71aa-6d55-42bc-8f66-8fe9e3de2906",
   "metadata": {},
   "source": [
    "# Check if the dataframe is loaded correctly"
   ]
  },
  {
   "cell_type": "markdown",
   "id": "95a2fe7b-097c-4115-80cb-929edaad9069",
   "metadata": {},
   "source": [
    "# Check if the dataframe is loaded correctly"
   ]
  },
  {
   "cell_type": "code",
   "execution_count": 31,
   "id": "b4c9e39f-b14a-473b-ab66-fce868fc2572",
   "metadata": {},
   "outputs": [
    {
     "data": {
      "text/html": [
       "<div>\n",
       "<style scoped>\n",
       "    .dataframe tbody tr th:only-of-type {\n",
       "        vertical-align: middle;\n",
       "    }\n",
       "\n",
       "    .dataframe tbody tr th {\n",
       "        vertical-align: top;\n",
       "    }\n",
       "\n",
       "    .dataframe thead th {\n",
       "        text-align: right;\n",
       "    }\n",
       "</style>\n",
       "<table border=\"1\" class=\"dataframe\">\n",
       "  <thead>\n",
       "    <tr style=\"text-align: right;\">\n",
       "      <th></th>\n",
       "      <th>order_id</th>\n",
       "      <th>product_id</th>\n",
       "      <th>add_to_cart_order</th>\n",
       "      <th>reordered</th>\n",
       "      <th>user_id</th>\n",
       "      <th>order_number</th>\n",
       "      <th>orders_day_of_week</th>\n",
       "      <th>order_hour_of_day</th>\n",
       "      <th>days_since_last_order</th>\n",
       "      <th>_merge</th>\n",
       "      <th>...</th>\n",
       "      <th>merge_flag</th>\n",
       "      <th>busiest_day</th>\n",
       "      <th>busiest_days</th>\n",
       "      <th>busiest_period_of_day</th>\n",
       "      <th>max_order</th>\n",
       "      <th>loyalty_flag</th>\n",
       "      <th>mean_price</th>\n",
       "      <th>spending_flag</th>\n",
       "      <th>median_days_since_last_order</th>\n",
       "      <th>order_frequency_flag</th>\n",
       "    </tr>\n",
       "  </thead>\n",
       "  <tbody>\n",
       "    <tr>\n",
       "      <th>0</th>\n",
       "      <td>2</td>\n",
       "      <td>33120.0</td>\n",
       "      <td>1.0</td>\n",
       "      <td>1.0</td>\n",
       "      <td>202279</td>\n",
       "      <td>3</td>\n",
       "      <td>5</td>\n",
       "      <td>9</td>\n",
       "      <td>8.0</td>\n",
       "      <td>both</td>\n",
       "      <td>...</td>\n",
       "      <td>both</td>\n",
       "      <td>Regularly busy</td>\n",
       "      <td>Regular days</td>\n",
       "      <td>Most orders</td>\n",
       "      <td>9</td>\n",
       "      <td>New customer</td>\n",
       "      <td>8.618889</td>\n",
       "      <td>Low spender</td>\n",
       "      <td>24.0</td>\n",
       "      <td>Non-frequent customer</td>\n",
       "    </tr>\n",
       "    <tr>\n",
       "      <th>1</th>\n",
       "      <td>2</td>\n",
       "      <td>28985.0</td>\n",
       "      <td>2.0</td>\n",
       "      <td>1.0</td>\n",
       "      <td>202279</td>\n",
       "      <td>3</td>\n",
       "      <td>5</td>\n",
       "      <td>9</td>\n",
       "      <td>8.0</td>\n",
       "      <td>both</td>\n",
       "      <td>...</td>\n",
       "      <td>both</td>\n",
       "      <td>Regularly busy</td>\n",
       "      <td>Regular days</td>\n",
       "      <td>Most orders</td>\n",
       "      <td>9</td>\n",
       "      <td>New customer</td>\n",
       "      <td>8.618889</td>\n",
       "      <td>Low spender</td>\n",
       "      <td>24.0</td>\n",
       "      <td>Non-frequent customer</td>\n",
       "    </tr>\n",
       "    <tr>\n",
       "      <th>2</th>\n",
       "      <td>2</td>\n",
       "      <td>9327.0</td>\n",
       "      <td>3.0</td>\n",
       "      <td>0.0</td>\n",
       "      <td>202279</td>\n",
       "      <td>3</td>\n",
       "      <td>5</td>\n",
       "      <td>9</td>\n",
       "      <td>8.0</td>\n",
       "      <td>both</td>\n",
       "      <td>...</td>\n",
       "      <td>both</td>\n",
       "      <td>Regularly busy</td>\n",
       "      <td>Regular days</td>\n",
       "      <td>Most orders</td>\n",
       "      <td>9</td>\n",
       "      <td>New customer</td>\n",
       "      <td>8.618889</td>\n",
       "      <td>Low spender</td>\n",
       "      <td>24.0</td>\n",
       "      <td>Non-frequent customer</td>\n",
       "    </tr>\n",
       "    <tr>\n",
       "      <th>3</th>\n",
       "      <td>2</td>\n",
       "      <td>45918.0</td>\n",
       "      <td>4.0</td>\n",
       "      <td>1.0</td>\n",
       "      <td>202279</td>\n",
       "      <td>3</td>\n",
       "      <td>5</td>\n",
       "      <td>9</td>\n",
       "      <td>8.0</td>\n",
       "      <td>both</td>\n",
       "      <td>...</td>\n",
       "      <td>both</td>\n",
       "      <td>Regularly busy</td>\n",
       "      <td>Regular days</td>\n",
       "      <td>Most orders</td>\n",
       "      <td>9</td>\n",
       "      <td>New customer</td>\n",
       "      <td>8.618889</td>\n",
       "      <td>Low spender</td>\n",
       "      <td>24.0</td>\n",
       "      <td>Non-frequent customer</td>\n",
       "    </tr>\n",
       "    <tr>\n",
       "      <th>4</th>\n",
       "      <td>2</td>\n",
       "      <td>30035.0</td>\n",
       "      <td>5.0</td>\n",
       "      <td>0.0</td>\n",
       "      <td>202279</td>\n",
       "      <td>3</td>\n",
       "      <td>5</td>\n",
       "      <td>9</td>\n",
       "      <td>8.0</td>\n",
       "      <td>both</td>\n",
       "      <td>...</td>\n",
       "      <td>both</td>\n",
       "      <td>Regularly busy</td>\n",
       "      <td>Regular days</td>\n",
       "      <td>Most orders</td>\n",
       "      <td>9</td>\n",
       "      <td>New customer</td>\n",
       "      <td>8.618889</td>\n",
       "      <td>Low spender</td>\n",
       "      <td>24.0</td>\n",
       "      <td>Non-frequent customer</td>\n",
       "    </tr>\n",
       "  </tbody>\n",
       "</table>\n",
       "<p>5 rows × 24 columns</p>\n",
       "</div>"
      ],
      "text/plain": [
       "   order_id  product_id  add_to_cart_order  reordered  user_id  order_number  \\\n",
       "0         2     33120.0                1.0        1.0   202279             3   \n",
       "1         2     28985.0                2.0        1.0   202279             3   \n",
       "2         2      9327.0                3.0        0.0   202279             3   \n",
       "3         2     45918.0                4.0        1.0   202279             3   \n",
       "4         2     30035.0                5.0        0.0   202279             3   \n",
       "\n",
       "   orders_day_of_week  order_hour_of_day  days_since_last_order _merge  ...  \\\n",
       "0                   5                  9                    8.0   both  ...   \n",
       "1                   5                  9                    8.0   both  ...   \n",
       "2                   5                  9                    8.0   both  ...   \n",
       "3                   5                  9                    8.0   both  ...   \n",
       "4                   5                  9                    8.0   both  ...   \n",
       "\n",
       "  merge_flag     busiest_day  busiest_days  busiest_period_of_day max_order  \\\n",
       "0       both  Regularly busy  Regular days            Most orders         9   \n",
       "1       both  Regularly busy  Regular days            Most orders         9   \n",
       "2       both  Regularly busy  Regular days            Most orders         9   \n",
       "3       both  Regularly busy  Regular days            Most orders         9   \n",
       "4       both  Regularly busy  Regular days            Most orders         9   \n",
       "\n",
       "   loyalty_flag mean_price spending_flag  median_days_since_last_order  \\\n",
       "0  New customer   8.618889   Low spender                          24.0   \n",
       "1  New customer   8.618889   Low spender                          24.0   \n",
       "2  New customer   8.618889   Low spender                          24.0   \n",
       "3  New customer   8.618889   Low spender                          24.0   \n",
       "4  New customer   8.618889   Low spender                          24.0   \n",
       "\n",
       "    order_frequency_flag  \n",
       "0  Non-frequent customer  \n",
       "1  Non-frequent customer  \n",
       "2  Non-frequent customer  \n",
       "3  Non-frequent customer  \n",
       "4  Non-frequent customer  \n",
       "\n",
       "[5 rows x 24 columns]"
      ]
     },
     "execution_count": 31,
     "metadata": {},
     "output_type": "execute_result"
    }
   ],
   "source": [
    "ords_prods_merge.head()"
   ]
  },
  {
   "cell_type": "markdown",
   "id": "04ed439c-c84f-4132-9fa4-229d409775c6",
   "metadata": {},
   "source": [
    "# Create bar chart for “orders_day_of_week” column from largest to smallest"
   ]
  },
  {
   "cell_type": "markdown",
   "id": "51d558ab-5a5f-4cf7-aa9b-d78144659d29",
   "metadata": {},
   "source": [
    "# Create bar chart for “orders_day_of_week” column from largest to smallest"
   ]
  },
  {
   "cell_type": "code",
   "execution_count": 13,
   "id": "70e2e2e9-5c08-4d90-872e-5ce9036ec285",
   "metadata": {},
   "outputs": [
    {
     "data": {
      "text/plain": [
       "<Axes: xlabel='orders_day_of_week'>"
      ]
     },
     "execution_count": 13,
     "metadata": {},
     "output_type": "execute_result"
    },
    {
     "data": {
      "image/png": "[encoded data removed]",
      "text/plain": [
       "<Figure size 640x480 with 1 Axes>"
      ]
     },
     "metadata": {},
     "output_type": "display_data"
    }
   ],
   "source": [
    "ords_prods_merge['orders_day_of_week'].value_counts().plot.bar()"
   ]
  },
  {
   "cell_type": "markdown",
   "id": "b6a15f61-c9f0-4f6c-8550-6fa7a1913008",
   "metadata": {},
   "source": [
    "# Showing bars according to index"
   ]
  },
  {
   "cell_type": "markdown",
   "id": "ca129732-4e5c-41fe-bb79-ad250275f5c5",
   "metadata": {},
   "source": [
    "# Showing bars according to index"
   ]
  },
  {
   "cell_type": "code",
   "execution_count": 14,
   "id": "f75dee1a-e9ee-43d4-b7e3-bfe713573b81",
   "metadata": {},
   "outputs": [
    {
     "data": {
      "image/png": "[encoded data removed]",
      "text/plain": [
       "<Figure size 640x480 with 1 Axes>"
      ]
     },
     "metadata": {},
     "output_type": "display_data"
    }
   ],
   "source": [
    "bar = ords_prods_merge['orders_day_of_week'].value_counts().sort_index().plot.bar()"
   ]
  },
  {
   "cell_type": "markdown",
   "id": "0e236c65-f07a-497d-bafa-2f7cbb5efd04",
   "metadata": {},
   "source": [
    "# Applying the same above trick to printing the frequencies of the “orders_day_of_week” column"
   ]
  },
  {
   "cell_type": "markdown",
   "id": "3e8a9f8a-a6f7-4e9a-8f49-7bb27c0f527e",
   "metadata": {},
   "source": [
    "# Applying the same above trick to printing the frequencies of the “orders_day_of_week” column"
   ]
  },
  {
   "cell_type": "code",
   "execution_count": 15,
   "id": "71c742f1-9c12-4aa6-911c-c1c89092f81a",
   "metadata": {},
   "outputs": [
    {
     "data": {
      "text/plain": [
       "orders_day_of_week\n",
       "0    6252941\n",
       "1    5696724\n",
       "6    4530304\n",
       "2    4243173\n",
       "5    4236989\n",
       "3    3868747\n",
       "4    3812390\n",
       "Name: count, dtype: int64"
      ]
     },
     "execution_count": 15,
     "metadata": {},
     "output_type": "execute_result"
    }
   ],
   "source": [
    "ords_prods_merge['orders_day_of_week'].value_counts()"
   ]
  },
  {
   "cell_type": "markdown",
   "id": "e3ee9f7c-8d58-4d08-be89-77ab53ef2a6f",
   "metadata": {},
   "source": [
    "# Showing frequencies according to index "
   ]
  },
  {
   "cell_type": "markdown",
   "id": "4266ac97-3539-40cb-8e3a-879d3b1b1a75",
   "metadata": {},
   "source": [
    "# Showing frequencies according to index "
   ]
  },
  {
   "cell_type": "code",
   "execution_count": 16,
   "id": "c02aee0f-31fb-48de-84b5-bcf681ed1fa4",
   "metadata": {},
   "outputs": [
    {
     "data": {
      "text/plain": [
       "orders_day_of_week\n",
       "0    6252941\n",
       "1    5696724\n",
       "2    4243173\n",
       "3    3868747\n",
       "4    3812390\n",
       "5    4236989\n",
       "6    4530304\n",
       "Name: count, dtype: int64"
      ]
     },
     "execution_count": 16,
     "metadata": {},
     "output_type": "execute_result"
    }
   ],
   "source": [
    "ords_prods_merge['orders_day_of_week'].value_counts().sort_index()"
   ]
  },
  {
   "cell_type": "markdown",
   "id": "84924889-d3a1-44fb-933d-1116c91c2d49",
   "metadata": {},
   "source": [
    "# Make the bar more distict by adding colour using argument in the plot.bar() function"
   ]
  },
  {
   "cell_type": "markdown",
   "id": "ec6aa3f6-3233-4844-961e-1758b69e1d30",
   "metadata": {},
   "source": [
    "# Make the bar more distict by adding colour using argument in the plot.bar() function"
   ]
  },
  {
   "cell_type": "code",
   "execution_count": 17,
   "id": "a80374c7-1e84-4460-8987-af9ddebeacc5",
   "metadata": {},
   "outputs": [
    {
     "data": {
      "text/plain": [
       "<Axes: xlabel='orders_day_of_week'>"
      ]
     },
     "execution_count": 17,
     "metadata": {},
     "output_type": "execute_result"
    },
    {
     "data": {
      "image/png": "[encoded data removed]",
      "text/plain": [
       "<Figure size 640x480 with 1 Axes>"
      ]
     },
     "metadata": {},
     "output_type": "display_data"
    }
   ],
   "source": [
    "ords_prods_merge['orders_day_of_week'].value_counts().plot.bar(color =['purple', 'red', 'pink', 'orange', 'yellow', 'green', 'blue'])"
   ]
  },
  {
   "cell_type": "markdown",
   "id": "a3f2a9bd-07fc-4e59-ac65-82bc03391806",
   "metadata": {},
   "source": [
    "# Saving the visulaization into the jupyter memory"
   ]
  },
  {
   "cell_type": "markdown",
   "id": "2784b563-fa88-44a2-a09c-0816e9f3fec5",
   "metadata": {},
   "source": [
    "# Saving the visulaization into the jupyter memory"
   ]
  },
  {
   "cell_type": "code",
   "execution_count": 18,
   "id": "6af06ea2-a4a1-4c97-bd20-729e84d99b59",
   "metadata": {},
   "outputs": [
    {
     "data": {
      "image/png": "[encoded data removed]",
      "text/plain": [
       "<Figure size 640x480 with 1 Axes>"
      ]
     },
     "metadata": {},
     "output_type": "display_data"
    }
   ],
   "source": [
    "bar = ords_prods_merge['orders_day_of_week'].value_counts().plot.bar(color =['purple', 'red', 'pink', 'orange', 'yellow', 'green', 'blue'])"
   ]
  },
  {
   "cell_type": "code",
   "execution_count": 19,
   "id": "8fd2ebeb-3efb-414c-ad62-965f757682bd",
   "metadata": {},
   "outputs": [
    {
     "data": {
      "image/png": "[encoded data removed]",
      "text/plain": [
       "<Figure size 640x480 with 1 Axes>"
      ]
     },
     "execution_count": 19,
     "metadata": {},
     "output_type": "execute_result"
    }
   ],
   "source": [
    "bar.figure"
   ]
  },
  {
   "cell_type": "markdown",
   "id": "71d9f2d5-7040-47a8-8d8d-323acdbca30c",
   "metadata": {},
   "source": [
    "# Export the visual outside of jupyter in the form of an image file"
   ]
  },
  {
   "cell_type": "markdown",
   "id": "cef92ef1-0c70-4343-91ee-7245902aad13",
   "metadata": {},
   "source": [
    "# Export the visual outside of jupyter in the form of an image file"
   ]
  },
  {
   "cell_type": "markdown",
   "id": "ca10eb1e-2308-44b4-89f3-959a7edd6a1e",
   "metadata": {},
   "source": [
    "# Step 1. Save the bar chart to the specified path"
   ]
  },
  {
   "cell_type": "markdown",
   "id": "967c052c-162a-48be-8ac4-dd930dbd7175",
   "metadata": {},
   "source": [
    "# Step 1. Save the bar chart to the specified path"
   ]
  },
  {
   "cell_type": "code",
   "execution_count": 32,
   "id": "5a8f9e6f-f940-4bd4-a5cc-b4d973a3702a",
   "metadata": {},
   "outputs": [],
   "source": [
    "# Save the bar chart to the specified path\n",
    "\n",
    "output_file = os.path.join(visualizations_path, 'bar_orders_dow.png')\n",
    "bar.figure.savefig(output_file)"
   ]
  },
  {
   "cell_type": "code",
   "execution_count": 33,
   "id": "8ce5bd7a-01a6-47db-bad7-61fe5d852f3c",
   "metadata": {},
   "outputs": [
    {
     "name": "stdout",
     "output_type": "stream",
     "text": [
      "Bar chart saved to: C:\\Users\\New User\\OneDrive\\Documents\\05-2024 Instacart Basket Analysis\\04 Analysis\\Visualizations\\bar_orders_dow.png\n"
     ]
    }
   ],
   "source": [
    "print(f\"Bar chart saved to: {output_file}\")"
   ]
  },
  {
   "cell_type": "markdown",
   "id": "146c2276-3b87-4517-896f-20a9677c6bd5",
   "metadata": {},
   "source": [
    "# Creating histogram of the “prices” column"
   ]
  },
  {
   "cell_type": "markdown",
   "id": "b3c08bc1-0f7f-4b59-ba47-dee5af5c079a",
   "metadata": {},
   "source": [
    "# Creating histogram of the “prices” column"
   ]
  },
  {
   "cell_type": "code",
   "execution_count": 34,
   "id": "584e7eb6-5b9a-4bf7-9295-83cfd9d2f5ad",
   "metadata": {},
   "outputs": [
    {
     "data": {
      "text/plain": [
       "<Axes: ylabel='Frequency'>"
      ]
     },
     "execution_count": 34,
     "metadata": {},
     "output_type": "execute_result"
    },
    {
     "data": {
      "image/png": "[encoded data removed]",
      "text/plain": [
       "<Figure size 640x480 with 1 Axes>"
      ]
     },
     "metadata": {},
     "output_type": "display_data"
    }
   ],
   "source": [
    "ords_prods_merge['prices'].plot.hist(bins = 25)"
   ]
  },
  {
   "cell_type": "markdown",
   "id": "1d9e5d9c-0b00-4dfc-9fe5-f9fdef0153dd",
   "metadata": {},
   "source": [
    "# Ploting a scatterplot of the 'prices' column against itself"
   ]
  },
  {
   "cell_type": "markdown",
   "id": "2d0404fc-9838-43c8-a563-cbbecc713e78",
   "metadata": {},
   "source": [
    "# Ploting a scatterplot of the 'prices' column against itself"
   ]
  },
  {
   "cell_type": "code",
   "execution_count": 35,
   "id": "044133a8-0396-4e3b-9196-e2def6abe21e",
   "metadata": {},
   "outputs": [
    {
     "data": {
      "text/plain": [
       "<Axes: xlabel='prices', ylabel='prices'>"
      ]
     },
     "execution_count": 35,
     "metadata": {},
     "output_type": "execute_result"
    },
    {
     "data": {
      "image/png": "[encoded data removed]",
      "text/plain": [
       "<Figure size 640x480 with 1 Axes>"
      ]
     },
     "metadata": {},
     "output_type": "display_data"
    }
   ],
   "source": [
    "sns.scatterplot(x = 'prices', y = 'prices',data = ords_prods_merge)"
   ]
  },
  {
   "cell_type": "markdown",
   "id": "45df56ae-2f30-44dd-80fc-59839e7bfe6b",
   "metadata": {},
   "source": [
    "# Checking for outliers in prices, taking '$100' as normal prices to maximally spent for an item in a supermakert"
   ]
  },
  {
   "cell_type": "markdown",
   "id": "e301a75a-182f-4195-a02a-32ef3d506ae9",
   "metadata": {},
   "source": [
    "# Checking for outliers in prices, taking '$100' as normal prices to maximally spent for an item in a supermakert"
   ]
  },
  {
   "cell_type": "code",
   "execution_count": 36,
   "id": "10e4eeb9-0995-4495-ab1c-26a250e04e22",
   "metadata": {},
   "outputs": [
    {
     "data": {
      "text/html": [
       "<div>\n",
       "<style scoped>\n",
       "    .dataframe tbody tr th:only-of-type {\n",
       "        vertical-align: middle;\n",
       "    }\n",
       "\n",
       "    .dataframe tbody tr th {\n",
       "        vertical-align: top;\n",
       "    }\n",
       "\n",
       "    .dataframe thead th {\n",
       "        text-align: right;\n",
       "    }\n",
       "</style>\n",
       "<table border=\"1\" class=\"dataframe\">\n",
       "  <thead>\n",
       "    <tr style=\"text-align: right;\">\n",
       "      <th></th>\n",
       "      <th>order_id</th>\n",
       "      <th>product_id</th>\n",
       "      <th>add_to_cart_order</th>\n",
       "      <th>reordered</th>\n",
       "      <th>user_id</th>\n",
       "      <th>order_number</th>\n",
       "      <th>orders_day_of_week</th>\n",
       "      <th>order_hour_of_day</th>\n",
       "      <th>days_since_last_order</th>\n",
       "      <th>_merge</th>\n",
       "      <th>...</th>\n",
       "      <th>merge_flag</th>\n",
       "      <th>busiest_day</th>\n",
       "      <th>busiest_days</th>\n",
       "      <th>busiest_period_of_day</th>\n",
       "      <th>max_order</th>\n",
       "      <th>loyalty_flag</th>\n",
       "      <th>mean_price</th>\n",
       "      <th>spending_flag</th>\n",
       "      <th>median_days_since_last_order</th>\n",
       "      <th>order_frequency_flag</th>\n",
       "    </tr>\n",
       "  </thead>\n",
       "  <tbody>\n",
       "    <tr>\n",
       "      <th>347</th>\n",
       "      <td>43</td>\n",
       "      <td>21553.0</td>\n",
       "      <td>6.0</td>\n",
       "      <td>1.0</td>\n",
       "      <td>39630</td>\n",
       "      <td>14</td>\n",
       "      <td>5</td>\n",
       "      <td>17</td>\n",
       "      <td>4.0</td>\n",
       "      <td>both</td>\n",
       "      <td>...</td>\n",
       "      <td>both</td>\n",
       "      <td>Regularly busy</td>\n",
       "      <td>Regular days</td>\n",
       "      <td>Average orders</td>\n",
       "      <td>15</td>\n",
       "      <td>Regular customer</td>\n",
       "      <td>304.253000</td>\n",
       "      <td>High spender</td>\n",
       "      <td>4.0</td>\n",
       "      <td>Frequent customer</td>\n",
       "    </tr>\n",
       "    <tr>\n",
       "      <th>9187</th>\n",
       "      <td>950</td>\n",
       "      <td>21553.0</td>\n",
       "      <td>20.0</td>\n",
       "      <td>0.0</td>\n",
       "      <td>187854</td>\n",
       "      <td>16</td>\n",
       "      <td>1</td>\n",
       "      <td>11</td>\n",
       "      <td>16.0</td>\n",
       "      <td>both</td>\n",
       "      <td>...</td>\n",
       "      <td>both</td>\n",
       "      <td>Regularly busy</td>\n",
       "      <td>Busiest days</td>\n",
       "      <td>Most orders</td>\n",
       "      <td>31</td>\n",
       "      <td>Regular customer</td>\n",
       "      <td>95.273077</td>\n",
       "      <td>High spender</td>\n",
       "      <td>11.0</td>\n",
       "      <td>Regular customer</td>\n",
       "    </tr>\n",
       "    <tr>\n",
       "      <th>10809</th>\n",
       "      <td>1115</td>\n",
       "      <td>21553.0</td>\n",
       "      <td>14.0</td>\n",
       "      <td>1.0</td>\n",
       "      <td>168014</td>\n",
       "      <td>15</td>\n",
       "      <td>6</td>\n",
       "      <td>14</td>\n",
       "      <td>30.0</td>\n",
       "      <td>both</td>\n",
       "      <td>...</td>\n",
       "      <td>both</td>\n",
       "      <td>Regularly busy</td>\n",
       "      <td>Regular days</td>\n",
       "      <td>Most orders</td>\n",
       "      <td>22</td>\n",
       "      <td>Regular customer</td>\n",
       "      <td>100.808075</td>\n",
       "      <td>High spender</td>\n",
       "      <td>9.0</td>\n",
       "      <td>Frequent customer</td>\n",
       "    </tr>\n",
       "    <tr>\n",
       "      <th>11158</th>\n",
       "      <td>1155</td>\n",
       "      <td>21553.0</td>\n",
       "      <td>18.0</td>\n",
       "      <td>1.0</td>\n",
       "      <td>103747</td>\n",
       "      <td>22</td>\n",
       "      <td>1</td>\n",
       "      <td>13</td>\n",
       "      <td>12.0</td>\n",
       "      <td>both</td>\n",
       "      <td>...</td>\n",
       "      <td>both</td>\n",
       "      <td>Regularly busy</td>\n",
       "      <td>Busiest days</td>\n",
       "      <td>Most orders</td>\n",
       "      <td>28</td>\n",
       "      <td>Regular customer</td>\n",
       "      <td>154.024939</td>\n",
       "      <td>High spender</td>\n",
       "      <td>7.0</td>\n",
       "      <td>Frequent customer</td>\n",
       "    </tr>\n",
       "    <tr>\n",
       "      <th>11780</th>\n",
       "      <td>1220</td>\n",
       "      <td>21553.0</td>\n",
       "      <td>19.0</td>\n",
       "      <td>0.0</td>\n",
       "      <td>23475</td>\n",
       "      <td>3</td>\n",
       "      <td>0</td>\n",
       "      <td>17</td>\n",
       "      <td>26.0</td>\n",
       "      <td>both</td>\n",
       "      <td>...</td>\n",
       "      <td>both</td>\n",
       "      <td>Busiest day</td>\n",
       "      <td>Busiest days</td>\n",
       "      <td>Average orders</td>\n",
       "      <td>4</td>\n",
       "      <td>New customer</td>\n",
       "      <td>337.015556</td>\n",
       "      <td>High spender</td>\n",
       "      <td>16.0</td>\n",
       "      <td>Regular customer</td>\n",
       "    </tr>\n",
       "    <tr>\n",
       "      <th>...</th>\n",
       "      <td>...</td>\n",
       "      <td>...</td>\n",
       "      <td>...</td>\n",
       "      <td>...</td>\n",
       "      <td>...</td>\n",
       "      <td>...</td>\n",
       "      <td>...</td>\n",
       "      <td>...</td>\n",
       "      <td>...</td>\n",
       "      <td>...</td>\n",
       "      <td>...</td>\n",
       "      <td>...</td>\n",
       "      <td>...</td>\n",
       "      <td>...</td>\n",
       "      <td>...</td>\n",
       "      <td>...</td>\n",
       "      <td>...</td>\n",
       "      <td>...</td>\n",
       "      <td>...</td>\n",
       "      <td>...</td>\n",
       "      <td>...</td>\n",
       "    </tr>\n",
       "    <tr>\n",
       "      <th>32429984</th>\n",
       "      <td>3420548</td>\n",
       "      <td>21553.0</td>\n",
       "      <td>5.0</td>\n",
       "      <td>1.0</td>\n",
       "      <td>146887</td>\n",
       "      <td>3</td>\n",
       "      <td>4</td>\n",
       "      <td>11</td>\n",
       "      <td>7.0</td>\n",
       "      <td>both</td>\n",
       "      <td>...</td>\n",
       "      <td>both</td>\n",
       "      <td>Least busy</td>\n",
       "      <td>Slowest days</td>\n",
       "      <td>Most orders</td>\n",
       "      <td>21</td>\n",
       "      <td>Regular customer</td>\n",
       "      <td>294.755556</td>\n",
       "      <td>High spender</td>\n",
       "      <td>6.0</td>\n",
       "      <td>Frequent customer</td>\n",
       "    </tr>\n",
       "    <tr>\n",
       "      <th>32430527</th>\n",
       "      <td>3420604</td>\n",
       "      <td>21553.0</td>\n",
       "      <td>8.0</td>\n",
       "      <td>0.0</td>\n",
       "      <td>159443</td>\n",
       "      <td>8</td>\n",
       "      <td>2</td>\n",
       "      <td>13</td>\n",
       "      <td>6.0</td>\n",
       "      <td>both</td>\n",
       "      <td>...</td>\n",
       "      <td>both</td>\n",
       "      <td>Regularly busy</td>\n",
       "      <td>Regular days</td>\n",
       "      <td>Most orders</td>\n",
       "      <td>57</td>\n",
       "      <td>Loyal customer</td>\n",
       "      <td>103.623151</td>\n",
       "      <td>High spender</td>\n",
       "      <td>6.0</td>\n",
       "      <td>Frequent customer</td>\n",
       "    </tr>\n",
       "    <tr>\n",
       "      <th>32431189</th>\n",
       "      <td>3420676</td>\n",
       "      <td>21553.0</td>\n",
       "      <td>10.0</td>\n",
       "      <td>0.0</td>\n",
       "      <td>202268</td>\n",
       "      <td>50</td>\n",
       "      <td>5</td>\n",
       "      <td>16</td>\n",
       "      <td>6.0</td>\n",
       "      <td>both</td>\n",
       "      <td>...</td>\n",
       "      <td>both</td>\n",
       "      <td>Regularly busy</td>\n",
       "      <td>Regular days</td>\n",
       "      <td>Most orders</td>\n",
       "      <td>55</td>\n",
       "      <td>Loyal customer</td>\n",
       "      <td>38.192197</td>\n",
       "      <td>High spender</td>\n",
       "      <td>6.0</td>\n",
       "      <td>Frequent customer</td>\n",
       "    </tr>\n",
       "    <tr>\n",
       "      <th>32432672</th>\n",
       "      <td>3420827</td>\n",
       "      <td>21553.0</td>\n",
       "      <td>2.0</td>\n",
       "      <td>0.0</td>\n",
       "      <td>15643</td>\n",
       "      <td>1</td>\n",
       "      <td>1</td>\n",
       "      <td>10</td>\n",
       "      <td>7.0</td>\n",
       "      <td>both</td>\n",
       "      <td>...</td>\n",
       "      <td>both</td>\n",
       "      <td>Regularly busy</td>\n",
       "      <td>Busiest days</td>\n",
       "      <td>Most orders</td>\n",
       "      <td>15</td>\n",
       "      <td>Regular customer</td>\n",
       "      <td>91.850716</td>\n",
       "      <td>High spender</td>\n",
       "      <td>15.0</td>\n",
       "      <td>Regular customer</td>\n",
       "    </tr>\n",
       "    <tr>\n",
       "      <th>32434790</th>\n",
       "      <td>3421047</td>\n",
       "      <td>33664.0</td>\n",
       "      <td>6.0</td>\n",
       "      <td>0.0</td>\n",
       "      <td>98554</td>\n",
       "      <td>4</td>\n",
       "      <td>1</td>\n",
       "      <td>11</td>\n",
       "      <td>4.0</td>\n",
       "      <td>both</td>\n",
       "      <td>...</td>\n",
       "      <td>both</td>\n",
       "      <td>Regularly busy</td>\n",
       "      <td>Busiest days</td>\n",
       "      <td>Most orders</td>\n",
       "      <td>16</td>\n",
       "      <td>Regular customer</td>\n",
       "      <td>776.953077</td>\n",
       "      <td>High spender</td>\n",
       "      <td>8.0</td>\n",
       "      <td>Frequent customer</td>\n",
       "    </tr>\n",
       "  </tbody>\n",
       "</table>\n",
       "<p>5127 rows × 24 columns</p>\n",
       "</div>"
      ],
      "text/plain": [
       "          order_id  product_id  add_to_cart_order  reordered  user_id  \\\n",
       "347             43     21553.0                6.0        1.0    39630   \n",
       "9187           950     21553.0               20.0        0.0   187854   \n",
       "10809         1115     21553.0               14.0        1.0   168014   \n",
       "11158         1155     21553.0               18.0        1.0   103747   \n",
       "11780         1220     21553.0               19.0        0.0    23475   \n",
       "...            ...         ...                ...        ...      ...   \n",
       "32429984   3420548     21553.0                5.0        1.0   146887   \n",
       "32430527   3420604     21553.0                8.0        0.0   159443   \n",
       "32431189   3420676     21553.0               10.0        0.0   202268   \n",
       "32432672   3420827     21553.0                2.0        0.0    15643   \n",
       "32434790   3421047     33664.0                6.0        0.0    98554   \n",
       "\n",
       "          order_number  orders_day_of_week  order_hour_of_day  \\\n",
       "347                 14                   5                 17   \n",
       "9187                16                   1                 11   \n",
       "10809               15                   6                 14   \n",
       "11158               22                   1                 13   \n",
       "11780                3                   0                 17   \n",
       "...                ...                 ...                ...   \n",
       "32429984             3                   4                 11   \n",
       "32430527             8                   2                 13   \n",
       "32431189            50                   5                 16   \n",
       "32432672             1                   1                 10   \n",
       "32434790             4                   1                 11   \n",
       "\n",
       "          days_since_last_order _merge  ... merge_flag     busiest_day  \\\n",
       "347                         4.0   both  ...       both  Regularly busy   \n",
       "9187                       16.0   both  ...       both  Regularly busy   \n",
       "10809                      30.0   both  ...       both  Regularly busy   \n",
       "11158                      12.0   both  ...       both  Regularly busy   \n",
       "11780                      26.0   both  ...       both     Busiest day   \n",
       "...                         ...    ...  ...        ...             ...   \n",
       "32429984                    7.0   both  ...       both      Least busy   \n",
       "32430527                    6.0   both  ...       both  Regularly busy   \n",
       "32431189                    6.0   both  ...       both  Regularly busy   \n",
       "32432672                    7.0   both  ...       both  Regularly busy   \n",
       "32434790                    4.0   both  ...       both  Regularly busy   \n",
       "\n",
       "          busiest_days  busiest_period_of_day max_order      loyalty_flag  \\\n",
       "347       Regular days         Average orders        15  Regular customer   \n",
       "9187      Busiest days            Most orders        31  Regular customer   \n",
       "10809     Regular days            Most orders        22  Regular customer   \n",
       "11158     Busiest days            Most orders        28  Regular customer   \n",
       "11780     Busiest days         Average orders         4      New customer   \n",
       "...                ...                    ...       ...               ...   \n",
       "32429984  Slowest days            Most orders        21  Regular customer   \n",
       "32430527  Regular days            Most orders        57    Loyal customer   \n",
       "32431189  Regular days            Most orders        55    Loyal customer   \n",
       "32432672  Busiest days            Most orders        15  Regular customer   \n",
       "32434790  Busiest days            Most orders        16  Regular customer   \n",
       "\n",
       "          mean_price spending_flag  median_days_since_last_order  \\\n",
       "347       304.253000  High spender                           4.0   \n",
       "9187       95.273077  High spender                          11.0   \n",
       "10809     100.808075  High spender                           9.0   \n",
       "11158     154.024939  High spender                           7.0   \n",
       "11780     337.015556  High spender                          16.0   \n",
       "...              ...           ...                           ...   \n",
       "32429984  294.755556  High spender                           6.0   \n",
       "32430527  103.623151  High spender                           6.0   \n",
       "32431189   38.192197  High spender                           6.0   \n",
       "32432672   91.850716  High spender                          15.0   \n",
       "32434790  776.953077  High spender                           8.0   \n",
       "\n",
       "         order_frequency_flag  \n",
       "347         Frequent customer  \n",
       "9187         Regular customer  \n",
       "10809       Frequent customer  \n",
       "11158       Frequent customer  \n",
       "11780        Regular customer  \n",
       "...                       ...  \n",
       "32429984    Frequent customer  \n",
       "32430527    Frequent customer  \n",
       "32431189    Frequent customer  \n",
       "32432672     Regular customer  \n",
       "32434790    Frequent customer  \n",
       "\n",
       "[5127 rows x 24 columns]"
      ]
     },
     "execution_count": 36,
     "metadata": {},
     "output_type": "execute_result"
    }
   ],
   "source": [
    "ords_prods_merge.loc[ords_prods_merge['prices'] > 100]"
   ]
  },
  {
   "cell_type": "markdown",
   "id": "7988ee2d-efad-4d8d-88ae-1f40406bf03e",
   "metadata": {},
   "source": [
    "# Mark the outliers in the 'prices' column as missing values (they don't make sense in terms of other values in the column)"
   ]
  },
  {
   "cell_type": "markdown",
   "id": "bdc432ce-32c4-46d9-888b-b809405dac30",
   "metadata": {},
   "source": [
    "# Mark the outliers in the 'prices' column as missing values (they don't make sense in terms of other values in the column)"
   ]
  },
  {
   "cell_type": "code",
   "execution_count": 42,
   "id": "a496f489-a4cb-4f80-8aae-85e1328463d4",
   "metadata": {},
   "outputs": [],
   "source": [
    "ords_prods_merge.loc[ords_prods_merge['prices'] >100, 'prices'] = np.nan"
   ]
  },
  {
   "cell_type": "markdown",
   "id": "998ca9e0-1da6-4dcc-a2c3-0c4db5951a8a",
   "metadata": {},
   "source": [
    "# Check whether the replacement was successful"
   ]
  },
  {
   "cell_type": "code",
   "execution_count": 43,
   "id": "c13d78a5-04db-4d98-9b27-beed9ddb3db6",
   "metadata": {},
   "outputs": [
    {
     "data": {
      "text/plain": [
       "25.0"
      ]
     },
     "execution_count": 43,
     "metadata": {},
     "output_type": "execute_result"
    }
   ],
   "source": [
    "ords_prods_merge['prices'].max()"
   ]
  },
  {
   "cell_type": "markdown",
   "id": "cd8f0161-23ec-4418-87f3-28a428682603",
   "metadata": {},
   "source": [
    "# Retry creating the histogram of the “prices” colum again after the ad-hoc data cleaning"
   ]
  },
  {
   "cell_type": "code",
   "execution_count": 47,
   "id": "38c27dd7-ae36-40a8-9132-57c7f94a15d1",
   "metadata": {},
   "outputs": [
    {
     "data": {
      "image/png": "[encoded data removed]",
      "text/plain": [
       "<Figure size 640x480 with 1 Axes>"
      ]
     },
     "metadata": {},
     "output_type": "display_data"
    }
   ],
   "source": [
    "hist = ords_prods_merge['prices'].plot.hist(bins = 25, color = 'blue')\n"
   ]
  },
  {
   "cell_type": "markdown",
   "id": "3099800b-747b-4efd-9956-40e2c15d9177",
   "metadata": {},
   "source": [
    "# Increase the level of granularity in the histogram, by increasing the number of bins "
   ]
  },
  {
   "cell_type": "code",
   "execution_count": 49,
   "id": "27a5649f-1d82-499b-9742-1038874c5958",
   "metadata": {},
   "outputs": [
    {
     "data": {
      "text/plain": [
       "Text(0, 0.5, 'Frequency')"
      ]
     },
     "execution_count": 49,
     "metadata": {},
     "output_type": "execute_result"
    },
    {
     "data": {
      "image/png": "[encoded data removed]",
      "text/plain": [
       "<Figure size 640x480 with 1 Axes>"
      ]
     },
     "metadata": {},
     "output_type": "display_data"
    }
   ],
   "source": [
    "hist_2 = ords_prods_merge['prices'].plot.hist(bins = 70, color = 'green')\n",
    "plt.title('Distribution of Product Prices')\n",
    "plt.xlabel('Price')\n",
    "plt.ylabel('Frequency')"
   ]
  },
  {
   "cell_type": "markdown",
   "id": "c3d31773-6eb3-465e-943e-1bc3c7fedfb0",
   "metadata": {},
   "source": [
    "# Export the histogram outside of jupyter in the form of an image file"
   ]
  },
  {
   "cell_type": "code",
   "execution_count": 50,
   "id": "a095bb81-e2dc-4670-9c9b-926d2e1e73da",
   "metadata": {},
   "outputs": [],
   "source": [
    "# Save the first histogram\n",
    "\n",
    "hist.figure.savefig(os.path.join(visualizations_path, 'hist_price_distribution.png'))"
   ]
  },
  {
   "cell_type": "code",
   "execution_count": 51,
   "id": "3f53367a-de3d-4007-bb86-74bed3471d52",
   "metadata": {},
   "outputs": [
    {
     "data": {
      "text/plain": [
       "<Figure size 640x480 with 0 Axes>"
      ]
     },
     "metadata": {},
     "output_type": "display_data"
    }
   ],
   "source": [
    "# Clear the figure to avoid overlapping of plots\n",
    "\n",
    "plt.clf()"
   ]
  },
  {
   "cell_type": "code",
   "execution_count": 52,
   "id": "7cd8b773-d790-438d-8d2f-14014fea310b",
   "metadata": {},
   "outputs": [],
   "source": [
    "# Save the second histogram\n",
    "\n",
    "hist_2.figure.savefig(os.path.join(visualizations_path, 'hist_2_price_distribution_2.png'))"
   ]
  },
  {
   "cell_type": "code",
   "execution_count": 53,
   "id": "ebc8e8b9-6e4b-47df-af19-e506c5809ada",
   "metadata": {},
   "outputs": [
    {
     "data": {
      "text/plain": [
       "<Figure size 640x480 with 0 Axes>"
      ]
     },
     "metadata": {},
     "output_type": "display_data"
    }
   ],
   "source": [
    "# Clear the figure to avoid overlapping of plots\n",
    "\n",
    "plt.clf()"
   ]
  },
  {
   "cell_type": "markdown",
   "id": "422ee235-8562-455b-925d-a7d3b3872781",
   "metadata": {},
   "source": [
    "# To create a line chart by plotting the “orders_day_of_week” column on the x-axis and the “prices” column on the y-axis"
   ]
  },
  {
   "cell_type": "markdown",
   "id": "74300592-c449-4d92-a244-be8271c788eb",
   "metadata": {},
   "source": [
    "# Create a sampling data"
   ]
  },
  {
   "cell_type": "markdown",
   "id": "7ab289b7-0a1f-468b-9ae3-c3685130c7de",
   "metadata": {},
   "source": [
    "# Create a list holding True/Falseto the test np.random.rant() <= 0.7"
   ]
  },
  {
   "cell_type": "code",
   "execution_count": 54,
   "id": "933477ff-9170-44ae-a839-97c58fe29558",
   "metadata": {},
   "outputs": [],
   "source": [
    "# Create a list holding True/Falseto the test np.random.rant() <= 0.7\n",
    "\n",
    "vp.random.seed(4)\n",
    "dev = np.random.rand(len(ords_prods_merge)) <= 0.7"
   ]
  },
  {
   "cell_type": "code",
   "execution_count": 55,
   "id": "7233d7a2-e570-46e8-aa8d-8c7ab62aeb30",
   "metadata": {},
   "outputs": [
    {
     "data": {
      "text/plain": [
       "array([False,  True, False, ...,  True, False,  True])"
      ]
     },
     "execution_count": 55,
     "metadata": {},
     "output_type": "execute_result"
    }
   ],
   "source": [
    "dev"
   ]
  },
  {
   "cell_type": "code",
   "execution_count": 56,
   "id": "e658fb8a-cbb4-45f2-833a-bab56a5b2d72",
   "metadata": {},
   "outputs": [
    {
     "data": {
      "text/plain": [
       "array([0.79227379, 0.54149571, 0.53109233, 0.3016315 , 0.91662146,\n",
       "       0.90125835, 0.66776966, 0.2148013 , 0.31056132, 0.19891516])"
      ]
     },
     "execution_count": 56,
     "metadata": {},
     "output_type": "execute_result"
    }
   ],
   "source": [
    "np.random.rand(10)"
   ]
  },
  {
   "cell_type": "code",
   "execution_count": 57,
   "id": "646149d4-d679-4d93-9334-01ad734e3d48",
   "metadata": {},
   "outputs": [],
   "source": [
    "# Store 70% of the sample in a dataframe big\n",
    "\n",
    "big = ords_prods_merge[dev]"
   ]
  },
  {
   "cell_type": "code",
   "execution_count": 58,
   "id": "8490f7a4-4b5e-43ec-845d-8366e21a4bbe",
   "metadata": {},
   "outputs": [],
   "source": [
    "# Store 30% of the sample in a dataframe small\n",
    "\n",
    "small = ords_prods_merge[~dev]"
   ]
  },
  {
   "cell_type": "markdown",
   "id": "c87262d4-619f-4e7d-8a3c-7c00da779929",
   "metadata": {},
   "source": [
    "# Check the results for expectation for successful subsetting)"
   ]
  },
  {
   "cell_type": "code",
   "execution_count": 59,
   "id": "ac4f5343-d809-46dc-b9dc-f78eab4e2f4b",
   "metadata": {},
   "outputs": [
    {
     "data": {
      "text/plain": [
       "32641268"
      ]
     },
     "execution_count": 59,
     "metadata": {},
     "output_type": "execute_result"
    }
   ],
   "source": [
    "len(ords_prods_merge)"
   ]
  },
  {
   "cell_type": "code",
   "execution_count": 60,
   "id": "06813bed-a85f-4bb8-8bb8-5c9b26bbd330",
   "metadata": {},
   "outputs": [
    {
     "data": {
      "text/plain": [
       "32641268"
      ]
     },
     "execution_count": 60,
     "metadata": {},
     "output_type": "execute_result"
    }
   ],
   "source": [
    "len(big) + len(small)"
   ]
  },
  {
   "cell_type": "markdown",
   "id": "9966798b-f632-4d3b-9af5-6062b7be3dea",
   "metadata": {},
   "source": [
    "# Reducing the samples to only those columns necessary for the chart, “prices” and “orders_day_of_week.” "
   ]
  },
  {
   "cell_type": "code",
   "execution_count": 61,
   "id": "a55ad203-8651-42ca-8256-0003beb21916",
   "metadata": {},
   "outputs": [],
   "source": [
    "df_2 = small[['orders_day_of_week','prices']]"
   ]
  },
  {
   "cell_type": "markdown",
   "id": "823a7e01-b931-4ec4-8228-b61d19be3298",
   "metadata": {},
   "source": [
    "# Create the line chart"
   ]
  },
  {
   "cell_type": "code",
   "execution_count": 62,
   "id": "6fbcc1d9-e6a8-4853-b935-908a429a8306",
   "metadata": {},
   "outputs": [
    {
     "name": "stderr",
     "output_type": "stream",
     "text": [
      "D:\\Anaconda3\\Lib\\site-packages\\seaborn\\_oldcore.py:1119: FutureWarning: use_inf_as_na option is deprecated and will be removed in a future version. Convert inf values to NaN before operating instead.\n",
      "  with pd.option_context('mode.use_inf_as_na', True):\n",
      "D:\\Anaconda3\\Lib\\site-packages\\seaborn\\_oldcore.py:1119: FutureWarning: use_inf_as_na option is deprecated and will be removed in a future version. Convert inf values to NaN before operating instead.\n",
      "  with pd.option_context('mode.use_inf_as_na', True):\n"
     ]
    },
    {
     "data": {
      "image/png": "[encoded data removed]",
      "text/plain": [
       "<Figure size 640x480 with 1 Axes>"
      ]
     },
     "metadata": {},
     "output_type": "display_data"
    }
   ],
   "source": [
    "line = sns.lineplot(data = df_2, x = 'orders_day_of_week',y = 'prices')"
   ]
  },
  {
   "cell_type": "markdown",
   "id": "f3e27cb8-6346-4cc5-bb60-7c4acbc79417",
   "metadata": {},
   "source": [
    "# Export line chart outside Jupyther"
   ]
  },
  {
   "cell_type": "code",
   "execution_count": 63,
   "id": "1818f3ec-e06e-4f86-abd1-73aaaf1a8c82",
   "metadata": {},
   "outputs": [],
   "source": [
    "# Save the line chart\n",
    "\n",
    "line.figure.savefig(os.path.join(visualizations_path, 'line_prices_vs_orders_dow.png'))"
   ]
  }
 ],
 "metadata": {
  "kernelspec": {
   "display_name": "Python 3 (ipykernel)",
   "language": "python",
   "name": "python3"
  },
  "language_info": {
   "codemirror_mode": {
    "name": "ipython",
    "version": 3
   },
   "file_extension": ".py",
   "mimetype": "text/x-python",
   "name": "python",
   "nbconvert_exporter": "python",
   "pygments_lexer": "ipython3",
   "version": "3.11.7"
  }
 },
 "nbformat": 4,
 "nbformat_minor": 5
}

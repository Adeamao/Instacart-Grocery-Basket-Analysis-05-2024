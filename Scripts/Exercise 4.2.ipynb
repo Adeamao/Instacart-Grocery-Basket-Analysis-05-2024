{
 "cells": [
  {
   "cell_type": "code",
   "execution_count": 64,
   "id": "266f14c4-fd58-4f09-96d5-0d47882a717a",
   "metadata": {},
   "outputs": [],
   "source": [
    "r=400"
   ]
  },
  {
   "cell_type": "code",
   "execution_count": 65,
   "id": "28bba70a-f8a9-42b3-be47-707e655e2abb",
   "metadata": {},
   "outputs": [],
   "source": [
    "t=25"
   ]
  },
  {
   "cell_type": "code",
   "execution_count": 66,
   "id": "17aa368d-871f-439c-9f6f-389fe28491d9",
   "metadata": {},
   "outputs": [],
   "source": [
    "v=4"
   ]
  },
  {
   "cell_type": "code",
   "execution_count": 67,
   "id": "a068c1d7-c89d-49b8-bf0c-b4be4410836a",
   "metadata": {},
   "outputs": [],
   "source": [
    "l=71"
   ]
  },
  {
   "cell_type": "code",
   "execution_count": 68,
   "id": "a32bc383-df8c-40b4-889e-ad0c114133f9",
   "metadata": {},
   "outputs": [
    {
     "name": "stdout",
     "output_type": "stream",
     "text": [
      "100.0\n"
     ]
    }
   ],
   "source": [
    "print(r / v)"
   ]
  },
  {
   "cell_type": "code",
   "execution_count": 69,
   "id": "6c2240f9-f66f-4a3f-af3c-92926543bd74",
   "metadata": {},
   "outputs": [
    {
     "name": "stdout",
     "output_type": "stream",
     "text": [
      "100\n"
     ]
    }
   ],
   "source": [
    "print(v * t)"
   ]
  },
  {
   "cell_type": "code",
   "execution_count": 70,
   "id": "22460ca4-6ac9-45a8-8812-f729826541a3",
   "metadata": {},
   "outputs": [
    {
     "name": "stdout",
     "output_type": "stream",
     "text": [
      "100\n"
     ]
    }
   ],
   "source": [
    "print(l + v + t)"
   ]
  },
  {
   "cell_type": "code",
   "execution_count": 71,
   "id": "78b7e032-ffdc-4522-a543-7600f6d923c4",
   "metadata": {},
   "outputs": [],
   "source": [
    "i=6.25"
   ]
  },
  {
   "cell_type": "code",
   "execution_count": 72,
   "id": "0183caca-89c3-4428-8c50-32a283d27880",
   "metadata": {},
   "outputs": [],
   "source": [
    "n=1.25"
   ]
  },
  {
   "cell_type": "code",
   "execution_count": 73,
   "id": "59d5ec77-8a0f-43c9-90bd-cfaf1a258a52",
   "metadata": {},
   "outputs": [
    {
     "name": "stdout",
     "output_type": "stream",
     "text": [
      "0.2\n"
     ]
    }
   ],
   "source": [
    "print( n / i)"
   ]
  },
  {
   "cell_type": "code",
   "execution_count": 74,
   "id": "9ff1da05-307e-4656-ae0b-74915e8ccfc5",
   "metadata": {},
   "outputs": [
    {
     "name": "stdout",
     "output_type": "stream",
     "text": [
      "5.0\n"
     ]
    }
   ],
   "source": [
    "print (i / n)"
   ]
  },
  {
   "cell_type": "code",
   "execution_count": 4,
   "id": "dbb14110-09f4-4aac-a7e3-5ee42d037cc0",
   "metadata": {},
   "outputs": [],
   "source": [
    "x=23"
   ]
  },
  {
   "cell_type": "code",
   "execution_count": 75,
   "id": "e49fee46-9439-47e9-b17d-9b73910236b8",
   "metadata": {},
   "outputs": [],
   "source": [
    "d='pool'"
   ]
  },
  {
   "cell_type": "code",
   "execution_count": 76,
   "id": "505cf16f-877e-4aea-88ce-2d9f063015c4",
   "metadata": {},
   "outputs": [],
   "source": [
    "f='party'"
   ]
  },
  {
   "cell_type": "code",
   "execution_count": 83,
   "id": "e4287385-01a9-4476-b036-788fb306f368",
   "metadata": {},
   "outputs": [],
   "source": [
    "g= 'girl\\'s'"
   ]
  },
  {
   "cell_type": "code",
   "execution_count": 84,
   "id": "e2c2dccc-f2b1-459c-951f-4d5d4b16c09b",
   "metadata": {},
   "outputs": [
    {
     "name": "stdout",
     "output_type": "stream",
     "text": [
      "girl's party\n"
     ]
    }
   ],
   "source": [
    "print('girl\\'s party')"
   ]
  },
  {
   "cell_type": "code",
   "execution_count": 85,
   "id": "19e76fd4-62cf-419f-91dd-3feab7349e09",
   "metadata": {},
   "outputs": [],
   "source": [
    "j= 'he'"
   ]
  },
  {
   "cell_type": "code",
   "execution_count": 130,
   "id": "a4de9051-1179-42a8-a4bd-d5b7778b2082",
   "metadata": {},
   "outputs": [],
   "source": [
    "ho= 'while'"
   ]
  },
  {
   "cell_type": "code",
   "execution_count": 87,
   "id": "98b828a0-fabd-4f6b-ae92-c2c62a0c53af",
   "metadata": {},
   "outputs": [],
   "source": [
    "d= 'studying'"
   ]
  },
  {
   "cell_type": "code",
   "execution_count": 131,
   "id": "b4335dc0-1828-491f-a6cc-0fdb9da7f23e",
   "metadata": {},
   "outputs": [
    {
     "name": "stdout",
     "output_type": "stream",
     "text": [
      "he lost 3 kids while studying\n"
     ]
    }
   ],
   "source": [
    "print(j + ' lost 3 kids ' + ho +' ' + d) "
   ]
  },
  {
   "cell_type": "code",
   "execution_count": 99,
   "id": "6e8a5e09-9d9e-48cc-9382-373b824e9dc7",
   "metadata": {},
   "outputs": [],
   "source": [
    "k= 'i'"
   ]
  },
  {
   "cell_type": "code",
   "execution_count": 100,
   "id": "4daaeb1a-925c-4ee7-9da4-5bb9c33fa814",
   "metadata": {},
   "outputs": [],
   "source": [
    "c= 'code'"
   ]
  },
  {
   "cell_type": "code",
   "execution_count": 101,
   "id": "ba9b4799-4ba0-4908-bfdb-4f66ae3d873c",
   "metadata": {},
   "outputs": [],
   "source": [
    "h= 'rightly' "
   ]
  },
  {
   "cell_type": "code",
   "execution_count": 110,
   "id": "ec2e4bec-e48f-4ed0-98c5-d9331d2399f7",
   "metadata": {},
   "outputs": [
    {
     "name": "stdout",
     "output_type": "stream",
     "text": [
      "i must learn to code rightly\n"
     ]
    }
   ],
   "source": [
    "print(k + ' must learn to ' + c +' ' + h )"
   ]
  },
  {
   "cell_type": "code",
   "execution_count": 118,
   "id": "a6e23fd2-e84d-4b89-8668-719746e362cd",
   "metadata": {},
   "outputs": [],
   "source": [
    "pv = d +' '+  f"
   ]
  },
  {
   "cell_type": "code",
   "execution_count": 124,
   "id": "4d757685-8e06-4778-92b9-13853e5c947a",
   "metadata": {},
   "outputs": [],
   "source": [
    "pvd = pv +' '"
   ]
  },
  {
   "cell_type": "code",
   "execution_count": 127,
   "id": "bbb36635-e08b-4b89-9389-a15e90cdddbc",
   "metadata": {},
   "outputs": [
    {
     "name": "stdout",
     "output_type": "stream",
     "text": [
      "studying party studying party studying party studying party studying party studying party studying party studying party studying party studying party studying party studying party studying party studying party studying party studying party studying party studying party studying party studying party studying party studying party studying party studying party studying party studying party studying party studying party studying party studying party studying party studying party studying party studying party studying party studying party studying party studying party studying party studying party studying party studying party studying party studying party studying party studying party studying party studying party studying party studying party studying party studying party studying party studying party studying party studying party studying party studying party studying party studying party studying party studying party studying party studying party studying party studying party studying party studying party studying party studying party studying party studying party studying party studying party studying party studying party studying party studying party studying party studying party studying party studying party studying party studying party studying party studying party studying party studying party studying party studying party studying party studying party studying party studying party studying party studying party studying party studying party studying party studying party \n"
     ]
    }
   ],
   "source": [
    "print(pvd * 100) "
   ]
  },
  {
   "cell_type": "code",
   "execution_count": 5,
   "id": "7942b76a-1a10-4ed8-b92d-1e4c21f74777",
   "metadata": {},
   "outputs": [
    {
     "data": {
      "text/plain": [
       "23"
      ]
     },
     "execution_count": 5,
     "metadata": {},
     "output_type": "execute_result"
    }
   ],
   "source": [
    "x"
   ]
  },
  {
   "cell_type": "code",
   "execution_count": 6,
   "id": "76d699ad-cc4b-4330-94c7-21ff2efefa78",
   "metadata": {},
   "outputs": [
    {
     "name": "stdout",
     "output_type": "stream",
     "text": [
      "23\n"
     ]
    }
   ],
   "source": [
    "print(x)"
   ]
  },
  {
   "cell_type": "code",
   "execution_count": 10,
   "id": "2c749710-7046-4c9c-8755-7138828650d8",
   "metadata": {},
   "outputs": [],
   "source": [
    "y = 5.457"
   ]
  },
  {
   "cell_type": "code",
   "execution_count": 11,
   "id": "ff714bed-b1c4-4df0-b359-b11bf212cac7",
   "metadata": {},
   "outputs": [
    {
     "name": "stdout",
     "output_type": "stream",
     "text": [
      "5.457\n"
     ]
    }
   ],
   "source": [
    "print(y)"
   ]
  },
  {
   "cell_type": "code",
   "execution_count": 15,
   "id": "04cc36a9-5002-4d53-a420-3f26a9b8d7b0",
   "metadata": {},
   "outputs": [],
   "source": [
    "z = 2.345"
   ]
  },
  {
   "cell_type": "code",
   "execution_count": 16,
   "id": "016dfbb8-fdd6-45bb-bd69-c2ac31f2fd77",
   "metadata": {},
   "outputs": [
    {
     "data": {
      "text/plain": [
       "2.345"
      ]
     },
     "execution_count": 16,
     "metadata": {},
     "output_type": "execute_result"
    }
   ],
   "source": [
    "z"
   ]
  },
  {
   "cell_type": "code",
   "execution_count": 17,
   "id": "e8d224bb-1112-4cd9-8e87-7205e774af77",
   "metadata": {},
   "outputs": [],
   "source": [
    "w=57.8"
   ]
  },
  {
   "cell_type": "code",
   "execution_count": 18,
   "id": "ed8df4bc-95ca-422c-bf3e-6ab1d3260e61",
   "metadata": {},
   "outputs": [
    {
     "name": "stdout",
     "output_type": "stream",
     "text": [
      "57.8\n"
     ]
    }
   ],
   "source": [
    "print(w)"
   ]
  },
  {
   "cell_type": "code",
   "execution_count": 19,
   "id": "069b631f-14d0-4911-862c-37c936092e72",
   "metadata": {},
   "outputs": [
    {
     "data": {
      "text/plain": [
       "float"
      ]
     },
     "execution_count": 19,
     "metadata": {},
     "output_type": "execute_result"
    }
   ],
   "source": [
    "type(z)"
   ]
  },
  {
   "cell_type": "code",
   "execution_count": 20,
   "id": "9e9c30de-921a-4e39-813d-3d924e18f556",
   "metadata": {},
   "outputs": [],
   "source": [
    "p = 'Brazil'"
   ]
  },
  {
   "cell_type": "code",
   "execution_count": 21,
   "id": "dcfdd9b1-27d8-4139-9980-3214b6518de9",
   "metadata": {},
   "outputs": [
    {
     "data": {
      "text/plain": [
       "str"
      ]
     },
     "execution_count": 21,
     "metadata": {},
     "output_type": "execute_result"
    }
   ],
   "source": [
    "type(p)"
   ]
  },
  {
   "cell_type": "code",
   "execution_count": 23,
   "id": "5f9b9e62-f7c9-470c-bc0a-8dfee39c73ac",
   "metadata": {},
   "outputs": [
    {
     "data": {
      "text/plain": [
       "bool"
      ]
     },
     "execution_count": 23,
     "metadata": {},
     "output_type": "execute_result"
    }
   ],
   "source": [
    "type(True)"
   ]
  },
  {
   "cell_type": "code",
   "execution_count": 24,
   "id": "eaa4381b-8e9f-47f6-975f-bd9b220b94bb",
   "metadata": {},
   "outputs": [
    {
     "name": "stdout",
     "output_type": "stream",
     "text": [
      "Brazil\n"
     ]
    }
   ],
   "source": [
    "print('Brazil')"
   ]
  },
  {
   "cell_type": "code",
   "execution_count": 25,
   "id": "4af1ae67-414b-43c9-a223-97018337c3ff",
   "metadata": {},
   "outputs": [
    {
     "name": "stdout",
     "output_type": "stream",
     "text": [
      "Brazil\n"
     ]
    }
   ],
   "source": [
    "print(p)"
   ]
  },
  {
   "cell_type": "code",
   "execution_count": 26,
   "id": "7b7ecea3-642c-4416-ad23-ed03955ab2d4",
   "metadata": {},
   "outputs": [],
   "source": [
    "ay = 'Ade'"
   ]
  },
  {
   "cell_type": "code",
   "execution_count": 27,
   "id": "5b94a6d6-4d21-4df3-93b3-fe77c15a8c4d",
   "metadata": {},
   "outputs": [
    {
     "name": "stdout",
     "output_type": "stream",
     "text": [
      "Ade\n"
     ]
    }
   ],
   "source": [
    "print(ay)"
   ]
  },
  {
   "cell_type": "code",
   "execution_count": 30,
   "id": "677f440e-a9e6-48e3-9f1c-c724f3bbc3fb",
   "metadata": {},
   "outputs": [
    {
     "name": "stdout",
     "output_type": "stream",
     "text": [
      "Ade is from Brazil\n"
     ]
    }
   ],
   "source": [
    "print(ay + ' is from ' + p)"
   ]
  },
  {
   "cell_type": "code",
   "execution_count": 31,
   "id": "f5af0c00-d154-49de-83ac-5f39de819400",
   "metadata": {},
   "outputs": [
    {
     "name": "stdout",
     "output_type": "stream",
     "text": [
      "12.796665\n"
     ]
    }
   ],
   "source": [
    "print(y * z)"
   ]
  },
  {
   "cell_type": "code",
   "execution_count": 32,
   "id": "c61959bc-bb08-46ae-aede-dd62ecd829d1",
   "metadata": {},
   "outputs": [
    {
     "name": "stdout",
     "output_type": "stream",
     "text": [
      "11.802\n"
     ]
    }
   ],
   "source": [
    "print(y + z +4)"
   ]
  },
  {
   "cell_type": "code",
   "execution_count": 37,
   "id": "c908ef7a-2d6e-4f41-8860-86b08c048978",
   "metadata": {},
   "outputs": [
    {
     "name": "stdout",
     "output_type": "stream",
     "text": [
      "False\n"
     ]
    }
   ],
   "source": [
    "print(ay == p)"
   ]
  },
  {
   "cell_type": "code",
   "execution_count": 39,
   "id": "5281ebf2-a684-48c8-874a-c4153d462014",
   "metadata": {},
   "outputs": [
    {
     "name": "stdout",
     "output_type": "stream",
     "text": [
      "False\n"
     ]
    }
   ],
   "source": [
    "print(x <= y)"
   ]
  },
  {
   "cell_type": "code",
   "execution_count": 40,
   "id": "3509015b-3e33-42d0-91d4-224cd3b30ffa",
   "metadata": {},
   "outputs": [
    {
     "ename": "SyntaxError",
     "evalue": "unterminated string literal (detected at line 1) (1663893174.py, line 1)",
     "output_type": "error",
     "traceback": [
      "\u001b[1;36m  Cell \u001b[1;32mIn[40], line 1\u001b[1;36m\u001b[0m\n\u001b[1;33m    print('i'm a boy')\u001b[0m\n\u001b[1;37m                    ^\u001b[0m\n\u001b[1;31mSyntaxError\u001b[0m\u001b[1;31m:\u001b[0m unterminated string literal (detected at line 1)\n"
     ]
    }
   ],
   "source": [
    "print('i'm a boy')"
   ]
  },
  {
   "cell_type": "code",
   "execution_count": 48,
   "id": "67a56daf-d263-4471-aa63-2cc7ce563bdc",
   "metadata": {},
   "outputs": [
    {
     "ename": "SyntaxError",
     "evalue": "unterminated string literal (detected at line 1) (560355806.py, line 1)",
     "output_type": "error",
     "traceback": [
      "\u001b[1;36m  Cell \u001b[1;32mIn[48], line 1\u001b[1;36m\u001b[0m\n\u001b[1;33m    print(`i'm a boy`)\u001b[0m\n\u001b[1;37m            ^\u001b[0m\n\u001b[1;31mSyntaxError\u001b[0m\u001b[1;31m:\u001b[0m unterminated string literal (detected at line 1)\n"
     ]
    }
   ],
   "source": [
    "print(`i'm a boy`)"
   ]
  },
  {
   "cell_type": "code",
   "execution_count": 50,
   "id": "1e29f218-b186-42c2-a899-9babeee969bb",
   "metadata": {},
   "outputs": [
    {
     "name": "stdout",
     "output_type": "stream",
     "text": [
      "I'm a boy\n"
     ]
    }
   ],
   "source": [
    "print(\"I'm a boy\")"
   ]
  },
  {
   "cell_type": "code",
   "execution_count": 51,
   "id": "634de503-73de-4596-8533-9eda98bd1f71",
   "metadata": {},
   "outputs": [
    {
     "name": "stdout",
     "output_type": "stream",
     "text": [
      "\"I'm a boy\"\n"
     ]
    }
   ],
   "source": [
    "print('\"I\\'m a boy\"')"
   ]
  },
  {
   "cell_type": "code",
   "execution_count": 58,
   "id": "621580f4-b576-48d8-91ea-3f2b6eafd307",
   "metadata": {},
   "outputs": [],
   "source": [
    "aap = 'my nephew'"
   ]
  },
  {
   "cell_type": "code",
   "execution_count": 59,
   "id": "33ef1443-47bd-4027-8ce5-7f19f20c09de",
   "metadata": {},
   "outputs": [],
   "source": [
    "t = 100"
   ]
  },
  {
   "cell_type": "code",
   "execution_count": 61,
   "id": "47be13e6-7b9f-4429-9d71-6c2684d54679",
   "metadata": {},
   "outputs": [
    {
     "name": "stdout",
     "output_type": "stream",
     "text": [
      "my nephewmy nephewmy nephewmy nephewmy nephewmy nephewmy nephewmy nephewmy nephewmy nephewmy nephewmy nephewmy nephewmy nephewmy nephewmy nephewmy nephewmy nephewmy nephewmy nephewmy nephewmy nephewmy nephewmy nephewmy nephewmy nephewmy nephewmy nephewmy nephewmy nephewmy nephewmy nephewmy nephewmy nephewmy nephewmy nephewmy nephewmy nephewmy nephewmy nephewmy nephewmy nephewmy nephewmy nephewmy nephewmy nephewmy nephewmy nephewmy nephewmy nephewmy nephewmy nephewmy nephewmy nephewmy nephewmy nephewmy nephewmy nephewmy nephewmy nephewmy nephewmy nephewmy nephewmy nephewmy nephewmy nephewmy nephewmy nephewmy nephewmy nephewmy nephewmy nephewmy nephewmy nephewmy nephewmy nephewmy nephewmy nephewmy nephewmy nephewmy nephewmy nephewmy nephewmy nephewmy nephewmy nephewmy nephewmy nephewmy nephewmy nephewmy nephewmy nephewmy nephewmy nephewmy nephewmy nephewmy nephewmy nephewmy nephewmy nephew\n"
     ]
    }
   ],
   "source": [
    "print(aap * t)"
   ]
  },
  {
   "cell_type": "code",
   "execution_count": null,
   "id": "bb862970-8473-4579-8eb1-15293f2c9b64",
   "metadata": {},
   "outputs": [],
   "source": []
  },
  {
   "cell_type": "code",
   "execution_count": null,
   "id": "7f03a060-9f49-473c-8c59-5d84b935caf4",
   "metadata": {},
   "outputs": [],
   "source": []
  },
  {
   "cell_type": "code",
   "execution_count": null,
   "id": "e1f56feb-68a1-4161-b56b-5c330f0c0dc2",
   "metadata": {},
   "outputs": [],
   "source": []
  }
 ],
 "metadata": {
  "kernelspec": {
   "display_name": "Python 3 (ipykernel)",
   "language": "python",
   "name": "python3"
  },
  "language_info": {
   "codemirror_mode": {
    "name": "ipython",
    "version": 3
   },
   "file_extension": ".py",
   "mimetype": "text/x-python",
   "name": "python",
   "nbconvert_exporter": "python",
   "pygments_lexer": "ipython3",
   "version": "3.11.7"
  }
 },
 "nbformat": 4,
 "nbformat_minor": 5
}

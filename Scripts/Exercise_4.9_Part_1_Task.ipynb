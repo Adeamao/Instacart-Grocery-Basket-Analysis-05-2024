{
 "cells": [
  {
   "cell_type": "markdown",
   "id": "7838b665-5f39-4f9f-b51d-eb423c7115b8",
   "metadata": {},
   "source": [
    "# Task 3. Import analysis libraries, and the new customer data set as a dataframe"
   ]
  },
  {
   "cell_type": "code",
   "execution_count": 16,
   "id": "ef0ba8d4-b9c7-4bb8-9883-faa2e22e0e2c",
   "metadata": {},
   "outputs": [],
   "source": [
    "# Importing necessary libraries\n",
    "\n",
    "import pandas as pd\n",
    "import numpy as np\n",
    "import os"
   ]
  },
  {
   "cell_type": "markdown",
   "id": "841b928e-b807-4cd8-97a9-a8e0d365e0cb",
   "metadata": {},
   "source": [
    "# Define the path to the data folder"
   ]
  },
  {
   "cell_type": "code",
   "execution_count": 15,
   "id": "b493038b-a43d-43ce-84ac-72b28453d2d2",
   "metadata": {},
   "outputs": [],
   "source": [
    "# Define the path to the data folder\n",
    "\n",
    "prepared_data_path = r'C:\\Users\\New User\\OneDrive\\Documents\\05-2024 Instacart Basket Analysis\\02 Data\\Prepared Data'\n",
    "original_data_path = r'C:\\Users\\New User\\OneDrive\\Documents\\05-2024 Instacart Basket Analysis\\02 Data\\Original Data'"
   ]
  },
  {
   "cell_type": "markdown",
   "id": "d6064e96-abf8-46d6-8e82-17a7b6aab41d",
   "metadata": {},
   "source": [
    "# Import the customer data set"
   ]
  },
  {
   "cell_type": "code",
   "execution_count": 21,
   "id": "8228ca78-6e7e-4841-b25e-5e056c8dd61d",
   "metadata": {},
   "outputs": [],
   "source": [
    "# Import the customer data set\n",
    "\n",
    "customers = pd.read_csv(os.path.join(original_data_path, 'customers.csv'))"
   ]
  },
  {
   "cell_type": "markdown",
   "id": "3493c6f4-33a0-4848-9a56-67d200fdf5fd",
   "metadata": {},
   "source": [
    "# Load the existing orders_products_merged_updated.pkl dataframe"
   ]
  },
  {
   "cell_type": "code",
   "execution_count": 18,
   "id": "9a2ccce7-6a5f-456f-b0e4-ef70de4a1513",
   "metadata": {},
   "outputs": [],
   "source": [
    "# Load the existing orders_products_merged_updated.pkl dataframe\n",
    "\n",
    "ords_prods_merge = pd.read_pickle(os.path.join(prepared_data_path,'orders_products_merged_updated.pkl'))"
   ]
  },
  {
   "cell_type": "markdown",
   "id": "fde5c98b-c2ed-4df7-853c-9a8329892a79",
   "metadata": {},
   "source": [
    "# Display the first few rows of the dataframe"
   ]
  },
  {
   "cell_type": "code",
   "execution_count": 22,
   "id": "25e826f2-9dde-4afd-b87f-d3e079e57440",
   "metadata": {},
   "outputs": [
    {
     "name": "stdout",
     "output_type": "stream",
     "text": [
      "Before renaming columns:\n"
     ]
    },
    {
     "data": {
      "text/html": [
       "<div>\n",
       "<style scoped>\n",
       "    .dataframe tbody tr th:only-of-type {\n",
       "        vertical-align: middle;\n",
       "    }\n",
       "\n",
       "    .dataframe tbody tr th {\n",
       "        vertical-align: top;\n",
       "    }\n",
       "\n",
       "    .dataframe thead th {\n",
       "        text-align: right;\n",
       "    }\n",
       "</style>\n",
       "<table border=\"1\" class=\"dataframe\">\n",
       "  <thead>\n",
       "    <tr style=\"text-align: right;\">\n",
       "      <th></th>\n",
       "      <th>user_id</th>\n",
       "      <th>First Name</th>\n",
       "      <th>Surnam</th>\n",
       "      <th>Gender</th>\n",
       "      <th>STATE</th>\n",
       "      <th>Age</th>\n",
       "      <th>date_joined</th>\n",
       "      <th>n_dependants</th>\n",
       "      <th>fam_status</th>\n",
       "      <th>income</th>\n",
       "    </tr>\n",
       "  </thead>\n",
       "  <tbody>\n",
       "    <tr>\n",
       "      <th>0</th>\n",
       "      <td>26711</td>\n",
       "      <td>Deborah</td>\n",
       "      <td>Esquivel</td>\n",
       "      <td>Female</td>\n",
       "      <td>Missouri</td>\n",
       "      <td>48</td>\n",
       "      <td>1/1/2017</td>\n",
       "      <td>3</td>\n",
       "      <td>married</td>\n",
       "      <td>165665</td>\n",
       "    </tr>\n",
       "    <tr>\n",
       "      <th>1</th>\n",
       "      <td>33890</td>\n",
       "      <td>Patricia</td>\n",
       "      <td>Hart</td>\n",
       "      <td>Female</td>\n",
       "      <td>New Mexico</td>\n",
       "      <td>36</td>\n",
       "      <td>1/1/2017</td>\n",
       "      <td>0</td>\n",
       "      <td>single</td>\n",
       "      <td>59285</td>\n",
       "    </tr>\n",
       "    <tr>\n",
       "      <th>2</th>\n",
       "      <td>65803</td>\n",
       "      <td>Kenneth</td>\n",
       "      <td>Farley</td>\n",
       "      <td>Male</td>\n",
       "      <td>Idaho</td>\n",
       "      <td>35</td>\n",
       "      <td>1/1/2017</td>\n",
       "      <td>2</td>\n",
       "      <td>married</td>\n",
       "      <td>99568</td>\n",
       "    </tr>\n",
       "    <tr>\n",
       "      <th>3</th>\n",
       "      <td>125935</td>\n",
       "      <td>Michelle</td>\n",
       "      <td>Hicks</td>\n",
       "      <td>Female</td>\n",
       "      <td>Iowa</td>\n",
       "      <td>40</td>\n",
       "      <td>1/1/2017</td>\n",
       "      <td>0</td>\n",
       "      <td>single</td>\n",
       "      <td>42049</td>\n",
       "    </tr>\n",
       "    <tr>\n",
       "      <th>4</th>\n",
       "      <td>130797</td>\n",
       "      <td>Ann</td>\n",
       "      <td>Gilmore</td>\n",
       "      <td>Female</td>\n",
       "      <td>Maryland</td>\n",
       "      <td>26</td>\n",
       "      <td>1/1/2017</td>\n",
       "      <td>1</td>\n",
       "      <td>married</td>\n",
       "      <td>40374</td>\n",
       "    </tr>\n",
       "  </tbody>\n",
       "</table>\n",
       "</div>"
      ],
      "text/plain": [
       "   user_id First Name    Surnam  Gender       STATE  Age date_joined  \\\n",
       "0    26711    Deborah  Esquivel  Female    Missouri   48    1/1/2017   \n",
       "1    33890   Patricia      Hart  Female  New Mexico   36    1/1/2017   \n",
       "2    65803    Kenneth    Farley    Male       Idaho   35    1/1/2017   \n",
       "3   125935   Michelle     Hicks  Female        Iowa   40    1/1/2017   \n",
       "4   130797        Ann   Gilmore  Female    Maryland   26    1/1/2017   \n",
       "\n",
       "   n_dependants fam_status  income  \n",
       "0             3    married  165665  \n",
       "1             0     single   59285  \n",
       "2             2    married   99568  \n",
       "3             0     single   42049  \n",
       "4             1    married   40374  "
      ]
     },
     "execution_count": 22,
     "metadata": {},
     "output_type": "execute_result"
    }
   ],
   "source": [
    "# Display the first few rows of the dataframe\n",
    "\n",
    "print(\"Before renaming columns:\")\n",
    "\n",
    "customers.head()"
   ]
  },
  {
   "cell_type": "markdown",
   "id": "861c90f2-b044-4827-9cd1-2d8104e3981e",
   "metadata": {},
   "source": [
    "# Task 4: Wrangle the data so that it follows consistent logic"
   ]
  },
  {
   "cell_type": "markdown",
   "id": "97fb1e1f-bea1-4dde-b524-49248e75f395",
   "metadata": {},
   "source": [
    "# Renaming columns to follow consistent logic and fixing any typos"
   ]
  },
  {
   "cell_type": "code",
   "execution_count": 23,
   "id": "667419b4-5893-4e0a-99dd-e9f1a4ab73b3",
   "metadata": {},
   "outputs": [],
   "source": [
    "# Renaming columns to follow consistent logic and fixing any typos\n",
    "\n",
    "customers.rename(columns={\n",
    "    'user_id': 'user_id',  # Keeping user_id as it to match with other dataframe\n",
    "    'First Name': 'first_name',\n",
    "    'Surnam': 'surname',\n",
    "    'Gender': 'gender',\n",
    "    'STATE': 'state',\n",
    "    'Age': 'age',\n",
    "    'date_joined': 'date_joined',\n",
    "    'n_dependants': 'num_dependents',\n",
    "    'fam_status': 'marital_status',\n",
    "    'income': 'income'\n",
    "}, inplace=True)"
   ]
  },
  {
   "cell_type": "markdown",
   "id": "4707273c-1f93-4815-92e6-d9ba62a2efdf",
   "metadata": {},
   "source": [
    "# Print the first few rows to confirm the changes"
   ]
  },
  {
   "cell_type": "code",
   "execution_count": 24,
   "id": "ace75506-4395-489f-bc74-d8c212e17976",
   "metadata": {},
   "outputs": [
    {
     "name": "stdout",
     "output_type": "stream",
     "text": [
      "After renaming columns:\n"
     ]
    },
    {
     "data": {
      "text/html": [
       "<div>\n",
       "<style scoped>\n",
       "    .dataframe tbody tr th:only-of-type {\n",
       "        vertical-align: middle;\n",
       "    }\n",
       "\n",
       "    .dataframe tbody tr th {\n",
       "        vertical-align: top;\n",
       "    }\n",
       "\n",
       "    .dataframe thead th {\n",
       "        text-align: right;\n",
       "    }\n",
       "</style>\n",
       "<table border=\"1\" class=\"dataframe\">\n",
       "  <thead>\n",
       "    <tr style=\"text-align: right;\">\n",
       "      <th></th>\n",
       "      <th>user_id</th>\n",
       "      <th>first_name</th>\n",
       "      <th>surname</th>\n",
       "      <th>gender</th>\n",
       "      <th>state</th>\n",
       "      <th>age</th>\n",
       "      <th>date_joined</th>\n",
       "      <th>num_dependents</th>\n",
       "      <th>marital_status</th>\n",
       "      <th>income</th>\n",
       "    </tr>\n",
       "  </thead>\n",
       "  <tbody>\n",
       "    <tr>\n",
       "      <th>0</th>\n",
       "      <td>26711</td>\n",
       "      <td>Deborah</td>\n",
       "      <td>Esquivel</td>\n",
       "      <td>Female</td>\n",
       "      <td>Missouri</td>\n",
       "      <td>48</td>\n",
       "      <td>1/1/2017</td>\n",
       "      <td>3</td>\n",
       "      <td>married</td>\n",
       "      <td>165665</td>\n",
       "    </tr>\n",
       "    <tr>\n",
       "      <th>1</th>\n",
       "      <td>33890</td>\n",
       "      <td>Patricia</td>\n",
       "      <td>Hart</td>\n",
       "      <td>Female</td>\n",
       "      <td>New Mexico</td>\n",
       "      <td>36</td>\n",
       "      <td>1/1/2017</td>\n",
       "      <td>0</td>\n",
       "      <td>single</td>\n",
       "      <td>59285</td>\n",
       "    </tr>\n",
       "    <tr>\n",
       "      <th>2</th>\n",
       "      <td>65803</td>\n",
       "      <td>Kenneth</td>\n",
       "      <td>Farley</td>\n",
       "      <td>Male</td>\n",
       "      <td>Idaho</td>\n",
       "      <td>35</td>\n",
       "      <td>1/1/2017</td>\n",
       "      <td>2</td>\n",
       "      <td>married</td>\n",
       "      <td>99568</td>\n",
       "    </tr>\n",
       "    <tr>\n",
       "      <th>3</th>\n",
       "      <td>125935</td>\n",
       "      <td>Michelle</td>\n",
       "      <td>Hicks</td>\n",
       "      <td>Female</td>\n",
       "      <td>Iowa</td>\n",
       "      <td>40</td>\n",
       "      <td>1/1/2017</td>\n",
       "      <td>0</td>\n",
       "      <td>single</td>\n",
       "      <td>42049</td>\n",
       "    </tr>\n",
       "    <tr>\n",
       "      <th>4</th>\n",
       "      <td>130797</td>\n",
       "      <td>Ann</td>\n",
       "      <td>Gilmore</td>\n",
       "      <td>Female</td>\n",
       "      <td>Maryland</td>\n",
       "      <td>26</td>\n",
       "      <td>1/1/2017</td>\n",
       "      <td>1</td>\n",
       "      <td>married</td>\n",
       "      <td>40374</td>\n",
       "    </tr>\n",
       "  </tbody>\n",
       "</table>\n",
       "</div>"
      ],
      "text/plain": [
       "   user_id first_name   surname  gender       state  age date_joined  \\\n",
       "0    26711    Deborah  Esquivel  Female    Missouri   48    1/1/2017   \n",
       "1    33890   Patricia      Hart  Female  New Mexico   36    1/1/2017   \n",
       "2    65803    Kenneth    Farley    Male       Idaho   35    1/1/2017   \n",
       "3   125935   Michelle     Hicks  Female        Iowa   40    1/1/2017   \n",
       "4   130797        Ann   Gilmore  Female    Maryland   26    1/1/2017   \n",
       "\n",
       "   num_dependents marital_status  income  \n",
       "0               3        married  165665  \n",
       "1               0         single   59285  \n",
       "2               2        married   99568  \n",
       "3               0         single   42049  \n",
       "4               1        married   40374  "
      ]
     },
     "execution_count": 24,
     "metadata": {},
     "output_type": "execute_result"
    }
   ],
   "source": [
    "# Print the first few rows to confirm the changes\n",
    "\n",
    "print(\"After renaming columns:\")\n",
    "\n",
    "customers.head()"
   ]
  },
  {
   "cell_type": "markdown",
   "id": "1d87f0ae-a0c8-40a5-b080-57da2133a3b3",
   "metadata": {},
   "source": [
    "# Dropping columns that don't add value to the analysis"
   ]
  },
  {
   "cell_type": "code",
   "execution_count": 25,
   "id": "f7b03557-88b6-4092-90df-8390bf3dfe8c",
   "metadata": {},
   "outputs": [],
   "source": [
    "# Dropping columns that don't add value to the analysis\n",
    "\n",
    "customers.drop(columns=['first_name', 'surname', 'date_joined'], inplace=True)"
   ]
  },
  {
   "cell_type": "markdown",
   "id": "069dfa84-b13c-4dce-b12b-ce2202342ec6",
   "metadata": {},
   "source": [
    "# Display the first few rows after renaming and dropping columns"
   ]
  },
  {
   "cell_type": "code",
   "execution_count": 26,
   "id": "bfbbacbf-4693-4625-9582-de64c96d6a6d",
   "metadata": {},
   "outputs": [
    {
     "data": {
      "text/html": [
       "<div>\n",
       "<style scoped>\n",
       "    .dataframe tbody tr th:only-of-type {\n",
       "        vertical-align: middle;\n",
       "    }\n",
       "\n",
       "    .dataframe tbody tr th {\n",
       "        vertical-align: top;\n",
       "    }\n",
       "\n",
       "    .dataframe thead th {\n",
       "        text-align: right;\n",
       "    }\n",
       "</style>\n",
       "<table border=\"1\" class=\"dataframe\">\n",
       "  <thead>\n",
       "    <tr style=\"text-align: right;\">\n",
       "      <th></th>\n",
       "      <th>user_id</th>\n",
       "      <th>gender</th>\n",
       "      <th>state</th>\n",
       "      <th>age</th>\n",
       "      <th>num_dependents</th>\n",
       "      <th>marital_status</th>\n",
       "      <th>income</th>\n",
       "    </tr>\n",
       "  </thead>\n",
       "  <tbody>\n",
       "    <tr>\n",
       "      <th>0</th>\n",
       "      <td>26711</td>\n",
       "      <td>Female</td>\n",
       "      <td>Missouri</td>\n",
       "      <td>48</td>\n",
       "      <td>3</td>\n",
       "      <td>married</td>\n",
       "      <td>165665</td>\n",
       "    </tr>\n",
       "    <tr>\n",
       "      <th>1</th>\n",
       "      <td>33890</td>\n",
       "      <td>Female</td>\n",
       "      <td>New Mexico</td>\n",
       "      <td>36</td>\n",
       "      <td>0</td>\n",
       "      <td>single</td>\n",
       "      <td>59285</td>\n",
       "    </tr>\n",
       "    <tr>\n",
       "      <th>2</th>\n",
       "      <td>65803</td>\n",
       "      <td>Male</td>\n",
       "      <td>Idaho</td>\n",
       "      <td>35</td>\n",
       "      <td>2</td>\n",
       "      <td>married</td>\n",
       "      <td>99568</td>\n",
       "    </tr>\n",
       "    <tr>\n",
       "      <th>3</th>\n",
       "      <td>125935</td>\n",
       "      <td>Female</td>\n",
       "      <td>Iowa</td>\n",
       "      <td>40</td>\n",
       "      <td>0</td>\n",
       "      <td>single</td>\n",
       "      <td>42049</td>\n",
       "    </tr>\n",
       "    <tr>\n",
       "      <th>4</th>\n",
       "      <td>130797</td>\n",
       "      <td>Female</td>\n",
       "      <td>Maryland</td>\n",
       "      <td>26</td>\n",
       "      <td>1</td>\n",
       "      <td>married</td>\n",
       "      <td>40374</td>\n",
       "    </tr>\n",
       "  </tbody>\n",
       "</table>\n",
       "</div>"
      ],
      "text/plain": [
       "   user_id  gender       state  age  num_dependents marital_status  income\n",
       "0    26711  Female    Missouri   48               3        married  165665\n",
       "1    33890  Female  New Mexico   36               0         single   59285\n",
       "2    65803    Male       Idaho   35               2        married   99568\n",
       "3   125935  Female        Iowa   40               0         single   42049\n",
       "4   130797  Female    Maryland   26               1        married   40374"
      ]
     },
     "execution_count": 26,
     "metadata": {},
     "output_type": "execute_result"
    }
   ],
   "source": [
    "# Display the first few rows after renaming and dropping columns\n",
    "\n",
    "customers.head()"
   ]
  },
  {
   "cell_type": "markdown",
   "id": "08663269-7ec2-4c9d-b460-fc7b68924f81",
   "metadata": {},
   "source": [
    "# Task 5: Complete the fundamental data quality and consistency checks"
   ]
  },
  {
   "cell_type": "markdown",
   "id": "6549d1a1-e76d-4a38-a5a3-e37c7b5f4b53",
   "metadata": {},
   "source": [
    "# Checking for missing values"
   ]
  },
  {
   "cell_type": "code",
   "execution_count": 27,
   "id": "14b4327d-4f17-4f18-a513-04f24530747f",
   "metadata": {},
   "outputs": [
    {
     "name": "stdout",
     "output_type": "stream",
     "text": [
      "user_id           0\n",
      "gender            0\n",
      "state             0\n",
      "age               0\n",
      "num_dependents    0\n",
      "marital_status    0\n",
      "income            0\n",
      "dtype: int64\n"
     ]
    }
   ],
   "source": [
    "# Checking for missing values\n",
    "\n",
    "print(customers.isnull().sum())"
   ]
  },
  {
   "cell_type": "markdown",
   "id": "cd973276-2c48-418d-9f68-0a44dfb04986",
   "metadata": {},
   "source": [
    "# Handling missing values (if any)\n",
    "\n",
    "No missing data"
   ]
  },
  {
   "cell_type": "markdown",
   "id": "6ff69df8-8704-4fe9-a3f3-6dfb9fe9c7d1",
   "metadata": {},
   "source": [
    "# Checking for duplicates"
   ]
  },
  {
   "cell_type": "code",
   "execution_count": 28,
   "id": "dc312ca6-d7e5-4aa3-b4b2-83ed929c14b1",
   "metadata": {},
   "outputs": [
    {
     "name": "stdout",
     "output_type": "stream",
     "text": [
      "0\n"
     ]
    }
   ],
   "source": [
    "# Checking for duplicates\n",
    "\n",
    "print(customers.duplicated().sum())"
   ]
  },
  {
   "cell_type": "markdown",
   "id": "be8b3f9f-2fc7-4ed5-b5e8-1f97ca3638e5",
   "metadata": {},
   "source": [
    "# Removing duplicates (if any)\n",
    "\n",
    "No duplicates present"
   ]
  },
  {
   "cell_type": "markdown",
   "id": "3cbb59f6-ea24-4fa1-b572-b9fa9f3858b7",
   "metadata": {},
   "source": [
    "# Checking data types"
   ]
  },
  {
   "cell_type": "code",
   "execution_count": 29,
   "id": "69659a8b-c57b-4380-b2cf-87fb0bf18370",
   "metadata": {},
   "outputs": [
    {
     "name": "stdout",
     "output_type": "stream",
     "text": [
      "\n",
      "Data types and non-null counts after cleaning:\n"
     ]
    }
   ],
   "source": [
    "print(\"\\nData types and non-null counts after cleaning:\")"
   ]
  },
  {
   "cell_type": "code",
   "execution_count": 30,
   "id": "3fde33d0-ba8e-4e27-acbd-e1a653440a29",
   "metadata": {},
   "outputs": [
    {
     "name": "stdout",
     "output_type": "stream",
     "text": [
      "<class 'pandas.core.frame.DataFrame'>\n",
      "RangeIndex: 206209 entries, 0 to 206208\n",
      "Data columns (total 7 columns):\n",
      " #   Column          Non-Null Count   Dtype \n",
      "---  ------          --------------   ----- \n",
      " 0   user_id         206209 non-null  int64 \n",
      " 1   gender          206209 non-null  object\n",
      " 2   state           206209 non-null  object\n",
      " 3   age             206209 non-null  int64 \n",
      " 4   num_dependents  206209 non-null  int64 \n",
      " 5   marital_status  206209 non-null  object\n",
      " 6   income          206209 non-null  int64 \n",
      "dtypes: int64(4), object(3)\n",
      "memory usage: 11.0+ MB\n"
     ]
    }
   ],
   "source": [
    "# print\n",
    "\n",
    "customers.info()"
   ]
  },
  {
   "cell_type": "code",
   "execution_count": 31,
   "id": "5e5249c9-3a63-46a0-9e19-78a5f2da6981",
   "metadata": {},
   "outputs": [
    {
     "name": "stdout",
     "output_type": "stream",
     "text": [
      "user_id            int64\n",
      "gender            object\n",
      "state             object\n",
      "age                int64\n",
      "num_dependents     int64\n",
      "marital_status    object\n",
      "income             int64\n",
      "dtype: object\n"
     ]
    }
   ],
   "source": [
    "# Checking data types\n",
    "\n",
    "print(customers.dtypes)"
   ]
  },
  {
   "cell_type": "markdown",
   "id": "230c0065-15fb-474b-912b-2715b7a8d350",
   "metadata": {},
   "source": [
    "# Converting data types if necessary"
   ]
  },
  {
   "cell_type": "code",
   "execution_count": 32,
   "id": "6dd22782-3cc9-47c7-9bc7-bac693d8d87d",
   "metadata": {},
   "outputs": [],
   "source": [
    "# Ensuring data types are correct\n",
    "\n",
    "customers['user_id'] = customers['user_id'].astype(int)\n",
    "customers['gender'] = customers['gender'].astype(str)\n",
    "customers['state'] = customers['state'].astype(str)\n",
    "customers['age'] = customers['age'].astype(int)\n",
    "customers['num_dependents'] = customers['num_dependents'].astype(int)\n",
    "customers['marital_status'] = customers['marital_status'].astype(str)\n",
    "customers['income'] = customers['income'].astype(int)"
   ]
  },
  {
   "cell_type": "markdown",
   "id": "08a70cf3-f825-48eb-98ec-0fd68afddeed",
   "metadata": {},
   "source": [
    "# Final check of the dataframe"
   ]
  },
  {
   "cell_type": "code",
   "execution_count": 33,
   "id": "bebd0164-fcdc-4326-a4f7-54d7b14ef454",
   "metadata": {},
   "outputs": [
    {
     "name": "stdout",
     "output_type": "stream",
     "text": [
      "\n",
      "Final dataframe after data quality checks:\n"
     ]
    },
    {
     "data": {
      "text/html": [
       "<div>\n",
       "<style scoped>\n",
       "    .dataframe tbody tr th:only-of-type {\n",
       "        vertical-align: middle;\n",
       "    }\n",
       "\n",
       "    .dataframe tbody tr th {\n",
       "        vertical-align: top;\n",
       "    }\n",
       "\n",
       "    .dataframe thead th {\n",
       "        text-align: right;\n",
       "    }\n",
       "</style>\n",
       "<table border=\"1\" class=\"dataframe\">\n",
       "  <thead>\n",
       "    <tr style=\"text-align: right;\">\n",
       "      <th></th>\n",
       "      <th>user_id</th>\n",
       "      <th>gender</th>\n",
       "      <th>state</th>\n",
       "      <th>age</th>\n",
       "      <th>num_dependents</th>\n",
       "      <th>marital_status</th>\n",
       "      <th>income</th>\n",
       "    </tr>\n",
       "  </thead>\n",
       "  <tbody>\n",
       "    <tr>\n",
       "      <th>0</th>\n",
       "      <td>26711</td>\n",
       "      <td>Female</td>\n",
       "      <td>Missouri</td>\n",
       "      <td>48</td>\n",
       "      <td>3</td>\n",
       "      <td>married</td>\n",
       "      <td>165665</td>\n",
       "    </tr>\n",
       "    <tr>\n",
       "      <th>1</th>\n",
       "      <td>33890</td>\n",
       "      <td>Female</td>\n",
       "      <td>New Mexico</td>\n",
       "      <td>36</td>\n",
       "      <td>0</td>\n",
       "      <td>single</td>\n",
       "      <td>59285</td>\n",
       "    </tr>\n",
       "    <tr>\n",
       "      <th>2</th>\n",
       "      <td>65803</td>\n",
       "      <td>Male</td>\n",
       "      <td>Idaho</td>\n",
       "      <td>35</td>\n",
       "      <td>2</td>\n",
       "      <td>married</td>\n",
       "      <td>99568</td>\n",
       "    </tr>\n",
       "    <tr>\n",
       "      <th>3</th>\n",
       "      <td>125935</td>\n",
       "      <td>Female</td>\n",
       "      <td>Iowa</td>\n",
       "      <td>40</td>\n",
       "      <td>0</td>\n",
       "      <td>single</td>\n",
       "      <td>42049</td>\n",
       "    </tr>\n",
       "    <tr>\n",
       "      <th>4</th>\n",
       "      <td>130797</td>\n",
       "      <td>Female</td>\n",
       "      <td>Maryland</td>\n",
       "      <td>26</td>\n",
       "      <td>1</td>\n",
       "      <td>married</td>\n",
       "      <td>40374</td>\n",
       "    </tr>\n",
       "  </tbody>\n",
       "</table>\n",
       "</div>"
      ],
      "text/plain": [
       "   user_id  gender       state  age  num_dependents marital_status  income\n",
       "0    26711  Female    Missouri   48               3        married  165665\n",
       "1    33890  Female  New Mexico   36               0         single   59285\n",
       "2    65803    Male       Idaho   35               2        married   99568\n",
       "3   125935  Female        Iowa   40               0         single   42049\n",
       "4   130797  Female    Maryland   26               1        married   40374"
      ]
     },
     "execution_count": 33,
     "metadata": {},
     "output_type": "execute_result"
    }
   ],
   "source": [
    "# Final check of the dataframe\n",
    "\n",
    "print(\"\\nFinal dataframe after data quality checks:\")\n",
    "\n",
    "customers.head()"
   ]
  },
  {
   "cell_type": "markdown",
   "id": "cf858d9e-f2e6-4186-9a5d-c79566ed6959",
   "metadata": {},
   "source": [
    "# Task 6: Combine the customer data with the rest of the prepared Instacart data"
   ]
  },
  {
   "cell_type": "markdown",
   "id": "d45e5bb7-5e56-47c9-9795-1ebdba4bd034",
   "metadata": {},
   "source": [
    "# Ensure the key columns are the same data type"
   ]
  },
  {
   "cell_type": "code",
   "execution_count": 34,
   "id": "fba0d149-282c-4168-b831-275f2ecf9026",
   "metadata": {},
   "outputs": [],
   "source": [
    "# Ensure the key columns are the same data type\n",
    "\n",
    "customers['user_id'] = customers['user_id'].astype(int)\n",
    "ords_prods_merge['user_id'] = ords_prods_merge['user_id'].astype(int)"
   ]
  },
  {
   "cell_type": "markdown",
   "id": "c8084c59-935a-418e-960e-002ffe9a0f0e",
   "metadata": {},
   "source": [
    "# Merge the dataframes on 'user_id'"
   ]
  },
  {
   "cell_type": "code",
   "execution_count": 35,
   "id": "84984a39-3ca4-4a4a-b69c-5533d63ebc86",
   "metadata": {},
   "outputs": [],
   "source": [
    "# Merge the dataframes on 'user_id'\n",
    "\n",
    "merged_df = ords_prods_merge.merge(customers, on='user_id', how='left')"
   ]
  },
  {
   "cell_type": "markdown",
   "id": "a5ea7857-d189-4024-8a7f-1a2d6e89fbc0",
   "metadata": {},
   "source": [
    "# Check the result of the merge"
   ]
  },
  {
   "cell_type": "code",
   "execution_count": 37,
   "id": "7d3d8617-a8b0-4f47-bb68-9c2209e60f2c",
   "metadata": {},
   "outputs": [
    {
     "data": {
      "text/html": [
       "<div>\n",
       "<style scoped>\n",
       "    .dataframe tbody tr th:only-of-type {\n",
       "        vertical-align: middle;\n",
       "    }\n",
       "\n",
       "    .dataframe tbody tr th {\n",
       "        vertical-align: top;\n",
       "    }\n",
       "\n",
       "    .dataframe thead th {\n",
       "        text-align: right;\n",
       "    }\n",
       "</style>\n",
       "<table border=\"1\" class=\"dataframe\">\n",
       "  <thead>\n",
       "    <tr style=\"text-align: right;\">\n",
       "      <th></th>\n",
       "      <th>order_id</th>\n",
       "      <th>product_id</th>\n",
       "      <th>add_to_cart_order</th>\n",
       "      <th>reordered</th>\n",
       "      <th>user_id</th>\n",
       "      <th>order_number</th>\n",
       "      <th>orders_day_of_week</th>\n",
       "      <th>order_hour_of_day</th>\n",
       "      <th>days_since_last_order</th>\n",
       "      <th>_merge</th>\n",
       "      <th>...</th>\n",
       "      <th>mean_price</th>\n",
       "      <th>spending_flag</th>\n",
       "      <th>median_days_since_last_order</th>\n",
       "      <th>order_frequency_flag</th>\n",
       "      <th>gender</th>\n",
       "      <th>state</th>\n",
       "      <th>age</th>\n",
       "      <th>num_dependents</th>\n",
       "      <th>marital_status</th>\n",
       "      <th>income</th>\n",
       "    </tr>\n",
       "  </thead>\n",
       "  <tbody>\n",
       "    <tr>\n",
       "      <th>0</th>\n",
       "      <td>2</td>\n",
       "      <td>33120.0</td>\n",
       "      <td>1.0</td>\n",
       "      <td>1.0</td>\n",
       "      <td>202279</td>\n",
       "      <td>3</td>\n",
       "      <td>5</td>\n",
       "      <td>9</td>\n",
       "      <td>8.0</td>\n",
       "      <td>both</td>\n",
       "      <td>...</td>\n",
       "      <td>8.618889</td>\n",
       "      <td>Low spender</td>\n",
       "      <td>24.0</td>\n",
       "      <td>Non-frequent customer</td>\n",
       "      <td>Male</td>\n",
       "      <td>Idaho</td>\n",
       "      <td>57</td>\n",
       "      <td>3</td>\n",
       "      <td>married</td>\n",
       "      <td>98119</td>\n",
       "    </tr>\n",
       "    <tr>\n",
       "      <th>1</th>\n",
       "      <td>2</td>\n",
       "      <td>28985.0</td>\n",
       "      <td>2.0</td>\n",
       "      <td>1.0</td>\n",
       "      <td>202279</td>\n",
       "      <td>3</td>\n",
       "      <td>5</td>\n",
       "      <td>9</td>\n",
       "      <td>8.0</td>\n",
       "      <td>both</td>\n",
       "      <td>...</td>\n",
       "      <td>8.618889</td>\n",
       "      <td>Low spender</td>\n",
       "      <td>24.0</td>\n",
       "      <td>Non-frequent customer</td>\n",
       "      <td>Male</td>\n",
       "      <td>Idaho</td>\n",
       "      <td>57</td>\n",
       "      <td>3</td>\n",
       "      <td>married</td>\n",
       "      <td>98119</td>\n",
       "    </tr>\n",
       "    <tr>\n",
       "      <th>2</th>\n",
       "      <td>2</td>\n",
       "      <td>9327.0</td>\n",
       "      <td>3.0</td>\n",
       "      <td>0.0</td>\n",
       "      <td>202279</td>\n",
       "      <td>3</td>\n",
       "      <td>5</td>\n",
       "      <td>9</td>\n",
       "      <td>8.0</td>\n",
       "      <td>both</td>\n",
       "      <td>...</td>\n",
       "      <td>8.618889</td>\n",
       "      <td>Low spender</td>\n",
       "      <td>24.0</td>\n",
       "      <td>Non-frequent customer</td>\n",
       "      <td>Male</td>\n",
       "      <td>Idaho</td>\n",
       "      <td>57</td>\n",
       "      <td>3</td>\n",
       "      <td>married</td>\n",
       "      <td>98119</td>\n",
       "    </tr>\n",
       "    <tr>\n",
       "      <th>3</th>\n",
       "      <td>2</td>\n",
       "      <td>45918.0</td>\n",
       "      <td>4.0</td>\n",
       "      <td>1.0</td>\n",
       "      <td>202279</td>\n",
       "      <td>3</td>\n",
       "      <td>5</td>\n",
       "      <td>9</td>\n",
       "      <td>8.0</td>\n",
       "      <td>both</td>\n",
       "      <td>...</td>\n",
       "      <td>8.618889</td>\n",
       "      <td>Low spender</td>\n",
       "      <td>24.0</td>\n",
       "      <td>Non-frequent customer</td>\n",
       "      <td>Male</td>\n",
       "      <td>Idaho</td>\n",
       "      <td>57</td>\n",
       "      <td>3</td>\n",
       "      <td>married</td>\n",
       "      <td>98119</td>\n",
       "    </tr>\n",
       "    <tr>\n",
       "      <th>4</th>\n",
       "      <td>2</td>\n",
       "      <td>30035.0</td>\n",
       "      <td>5.0</td>\n",
       "      <td>0.0</td>\n",
       "      <td>202279</td>\n",
       "      <td>3</td>\n",
       "      <td>5</td>\n",
       "      <td>9</td>\n",
       "      <td>8.0</td>\n",
       "      <td>both</td>\n",
       "      <td>...</td>\n",
       "      <td>8.618889</td>\n",
       "      <td>Low spender</td>\n",
       "      <td>24.0</td>\n",
       "      <td>Non-frequent customer</td>\n",
       "      <td>Male</td>\n",
       "      <td>Idaho</td>\n",
       "      <td>57</td>\n",
       "      <td>3</td>\n",
       "      <td>married</td>\n",
       "      <td>98119</td>\n",
       "    </tr>\n",
       "  </tbody>\n",
       "</table>\n",
       "<p>5 rows × 30 columns</p>\n",
       "</div>"
      ],
      "text/plain": [
       "   order_id  product_id  add_to_cart_order  reordered  user_id  order_number  \\\n",
       "0         2     33120.0                1.0        1.0   202279             3   \n",
       "1         2     28985.0                2.0        1.0   202279             3   \n",
       "2         2      9327.0                3.0        0.0   202279             3   \n",
       "3         2     45918.0                4.0        1.0   202279             3   \n",
       "4         2     30035.0                5.0        0.0   202279             3   \n",
       "\n",
       "   orders_day_of_week  order_hour_of_day  days_since_last_order _merge  ...  \\\n",
       "0                   5                  9                    8.0   both  ...   \n",
       "1                   5                  9                    8.0   both  ...   \n",
       "2                   5                  9                    8.0   both  ...   \n",
       "3                   5                  9                    8.0   both  ...   \n",
       "4                   5                  9                    8.0   both  ...   \n",
       "\n",
       "  mean_price  spending_flag  median_days_since_last_order  \\\n",
       "0   8.618889    Low spender                          24.0   \n",
       "1   8.618889    Low spender                          24.0   \n",
       "2   8.618889    Low spender                          24.0   \n",
       "3   8.618889    Low spender                          24.0   \n",
       "4   8.618889    Low spender                          24.0   \n",
       "\n",
       "    order_frequency_flag gender  state age num_dependents  marital_status  \\\n",
       "0  Non-frequent customer   Male  Idaho  57              3         married   \n",
       "1  Non-frequent customer   Male  Idaho  57              3         married   \n",
       "2  Non-frequent customer   Male  Idaho  57              3         married   \n",
       "3  Non-frequent customer   Male  Idaho  57              3         married   \n",
       "4  Non-frequent customer   Male  Idaho  57              3         married   \n",
       "\n",
       "  income  \n",
       "0  98119  \n",
       "1  98119  \n",
       "2  98119  \n",
       "3  98119  \n",
       "4  98119  \n",
       "\n",
       "[5 rows x 30 columns]"
      ]
     },
     "execution_count": 37,
     "metadata": {},
     "output_type": "execute_result"
    }
   ],
   "source": [
    "merged_df.head()"
   ]
  },
  {
   "cell_type": "code",
   "execution_count": 38,
   "id": "c6e77187-523d-40ac-aa7f-eea3411f6e90",
   "metadata": {},
   "outputs": [
    {
     "data": {
      "text/plain": [
       "(32641268, 30)"
      ]
     },
     "execution_count": 38,
     "metadata": {},
     "output_type": "execute_result"
    }
   ],
   "source": [
    "merged_df.shape"
   ]
  },
  {
   "cell_type": "markdown",
   "id": "041e1271-0a02-4226-9760-c33a8ce79638",
   "metadata": {},
   "source": [
    "# Task 8: Export this new dataframe as a pickle file"
   ]
  },
  {
   "cell_type": "markdown",
   "id": "442cd01e-b595-4b1d-9c6c-ea2f3d4e7cb9",
   "metadata": {},
   "source": [
    "# Define the path for saving the new dataframe"
   ]
  },
  {
   "cell_type": "code",
   "execution_count": 39,
   "id": "88026507-8fb9-4d3d-a007-de7eed84191d",
   "metadata": {},
   "outputs": [],
   "source": [
    "# Define the path for saving the new dataframe\n",
    "\n",
    "output_path = r'C:\\Users\\New User\\OneDrive\\Documents\\05-2024 Instacart Basket Analysis\\02 Data\\Prepared Data\\orders_products_merged_with_customers.pkl'"
   ]
  },
  {
   "cell_type": "code",
   "execution_count": 40,
   "id": "bbb1c0c3-d69f-474d-b06f-2401104ad282",
   "metadata": {},
   "outputs": [],
   "source": [
    "# Export the merged dataframe as a pickle file\n",
    "\n",
    "merged_df.to_pickle(output_path)"
   ]
  }
 ],
 "metadata": {
  "kernelspec": {
   "display_name": "Python 3 (ipykernel)",
   "language": "python",
   "name": "python3"
  },
  "language_info": {
   "codemirror_mode": {
    "name": "ipython",
    "version": 3
   },
   "file_extension": ".py",
   "mimetype": "text/x-python",
   "name": "python",
   "nbconvert_exporter": "python",
   "pygments_lexer": "ipython3",
   "version": "3.11.7"
  }
 },
 "nbformat": 4,
 "nbformat_minor": 5
}

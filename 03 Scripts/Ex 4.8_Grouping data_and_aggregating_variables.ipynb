{
 "cells": [
  {
   "cell_type": "markdown",
   "id": "63e1d075-27f0-4e20-bd3e-fad5b8771d64",
   "metadata": {},
   "source": [
    "# Task 1. Import relevant libraries and the ords_prods_merge dataframe"
   ]
  },
  {
   "cell_type": "code",
   "execution_count": 1,
   "id": "93875f5c-3fa1-49a8-a55e-cbc7a1aa8653",
   "metadata": {},
   "outputs": [],
   "source": [
    "# Import libraries\n",
    "\n",
    "import pandas as pd\n",
    "import numpy as np\n",
    "import os"
   ]
  },
  {
   "cell_type": "markdown",
   "id": "6366bc73-7e86-4882-8680-82f56b5c50dc",
   "metadata": {},
   "source": [
    "# Defining path to the data folder (main directory)"
   ]
  },
  {
   "cell_type": "code",
   "execution_count": 2,
   "id": "5028cc23-37f0-42a9-9767-7ee279878fc5",
   "metadata": {},
   "outputs": [],
   "source": [
    "path = r'C:\\Users\\New User\\OneDrive\\Documents\\05-2024 Instacart Basket Analysis\\02 Data\\Prepared Data'"
   ]
  },
  {
   "cell_type": "markdown",
   "id": "ca265e56-41e8-4fd0-8d93-c4fe0d94e1c0",
   "metadata": {},
   "source": [
    "# Load the dataframe"
   ]
  },
  {
   "cell_type": "code",
   "execution_count": 3,
   "id": "c9e42b6a-6af7-4615-9bc1-390f83058105",
   "metadata": {},
   "outputs": [],
   "source": [
    "ords_prods_merge = pd.read_pickle(f'{path}/orders_products_combined.pkl')"
   ]
  },
  {
   "cell_type": "markdown",
   "id": "ed55975b-f282-4f01-bb92-17c29393723c",
   "metadata": {},
   "source": [
    "#  Display the first few rows of the dataframe to confirm successful import"
   ]
  },
  {
   "cell_type": "code",
   "execution_count": 4,
   "id": "13b1ec0a-84ad-46b7-8d80-044c3c129c3a",
   "metadata": {},
   "outputs": [
    {
     "data": {
      "text/html": [
       "<div>\n",
       "<style scoped>\n",
       "    .dataframe tbody tr th:only-of-type {\n",
       "        vertical-align: middle;\n",
       "    }\n",
       "\n",
       "    .dataframe tbody tr th {\n",
       "        vertical-align: top;\n",
       "    }\n",
       "\n",
       "    .dataframe thead th {\n",
       "        text-align: right;\n",
       "    }\n",
       "</style>\n",
       "<table border=\"1\" class=\"dataframe\">\n",
       "  <thead>\n",
       "    <tr style=\"text-align: right;\">\n",
       "      <th></th>\n",
       "      <th>order_id</th>\n",
       "      <th>product_id</th>\n",
       "      <th>add_to_cart_order</th>\n",
       "      <th>reordered</th>\n",
       "      <th>user_id</th>\n",
       "      <th>order_number</th>\n",
       "      <th>orders_day_of_week</th>\n",
       "      <th>order_hour_of_day</th>\n",
       "      <th>days_since_last_order</th>\n",
       "      <th>_merge</th>\n",
       "      <th>product_name</th>\n",
       "      <th>aisle_id</th>\n",
       "      <th>department_id</th>\n",
       "      <th>prices</th>\n",
       "      <th>merge_flag</th>\n",
       "      <th>busiest_day</th>\n",
       "      <th>busiest_days</th>\n",
       "      <th>busiest_period_of_day</th>\n",
       "    </tr>\n",
       "  </thead>\n",
       "  <tbody>\n",
       "    <tr>\n",
       "      <th>0</th>\n",
       "      <td>2</td>\n",
       "      <td>33120.0</td>\n",
       "      <td>1.0</td>\n",
       "      <td>1.0</td>\n",
       "      <td>202279</td>\n",
       "      <td>3</td>\n",
       "      <td>5</td>\n",
       "      <td>9</td>\n",
       "      <td>8.0</td>\n",
       "      <td>both</td>\n",
       "      <td>Organic Egg Whites</td>\n",
       "      <td>86.0</td>\n",
       "      <td>16.0</td>\n",
       "      <td>11.3</td>\n",
       "      <td>both</td>\n",
       "      <td>Regularly busy</td>\n",
       "      <td>Regular days</td>\n",
       "      <td>Most orders</td>\n",
       "    </tr>\n",
       "    <tr>\n",
       "      <th>1</th>\n",
       "      <td>2</td>\n",
       "      <td>28985.0</td>\n",
       "      <td>2.0</td>\n",
       "      <td>1.0</td>\n",
       "      <td>202279</td>\n",
       "      <td>3</td>\n",
       "      <td>5</td>\n",
       "      <td>9</td>\n",
       "      <td>8.0</td>\n",
       "      <td>both</td>\n",
       "      <td>Michigan Organic Kale</td>\n",
       "      <td>83.0</td>\n",
       "      <td>4.0</td>\n",
       "      <td>13.4</td>\n",
       "      <td>both</td>\n",
       "      <td>Regularly busy</td>\n",
       "      <td>Regular days</td>\n",
       "      <td>Most orders</td>\n",
       "    </tr>\n",
       "    <tr>\n",
       "      <th>2</th>\n",
       "      <td>2</td>\n",
       "      <td>9327.0</td>\n",
       "      <td>3.0</td>\n",
       "      <td>0.0</td>\n",
       "      <td>202279</td>\n",
       "      <td>3</td>\n",
       "      <td>5</td>\n",
       "      <td>9</td>\n",
       "      <td>8.0</td>\n",
       "      <td>both</td>\n",
       "      <td>Garlic Powder</td>\n",
       "      <td>104.0</td>\n",
       "      <td>13.0</td>\n",
       "      <td>3.6</td>\n",
       "      <td>both</td>\n",
       "      <td>Regularly busy</td>\n",
       "      <td>Regular days</td>\n",
       "      <td>Most orders</td>\n",
       "    </tr>\n",
       "    <tr>\n",
       "      <th>3</th>\n",
       "      <td>2</td>\n",
       "      <td>45918.0</td>\n",
       "      <td>4.0</td>\n",
       "      <td>1.0</td>\n",
       "      <td>202279</td>\n",
       "      <td>3</td>\n",
       "      <td>5</td>\n",
       "      <td>9</td>\n",
       "      <td>8.0</td>\n",
       "      <td>both</td>\n",
       "      <td>Coconut Butter</td>\n",
       "      <td>19.0</td>\n",
       "      <td>13.0</td>\n",
       "      <td>8.4</td>\n",
       "      <td>both</td>\n",
       "      <td>Regularly busy</td>\n",
       "      <td>Regular days</td>\n",
       "      <td>Most orders</td>\n",
       "    </tr>\n",
       "    <tr>\n",
       "      <th>4</th>\n",
       "      <td>2</td>\n",
       "      <td>30035.0</td>\n",
       "      <td>5.0</td>\n",
       "      <td>0.0</td>\n",
       "      <td>202279</td>\n",
       "      <td>3</td>\n",
       "      <td>5</td>\n",
       "      <td>9</td>\n",
       "      <td>8.0</td>\n",
       "      <td>both</td>\n",
       "      <td>Natural Sweetener</td>\n",
       "      <td>17.0</td>\n",
       "      <td>13.0</td>\n",
       "      <td>13.7</td>\n",
       "      <td>both</td>\n",
       "      <td>Regularly busy</td>\n",
       "      <td>Regular days</td>\n",
       "      <td>Most orders</td>\n",
       "    </tr>\n",
       "  </tbody>\n",
       "</table>\n",
       "</div>"
      ],
      "text/plain": [
       "   order_id  product_id  add_to_cart_order  reordered  user_id  order_number  \\\n",
       "0         2     33120.0                1.0        1.0   202279             3   \n",
       "1         2     28985.0                2.0        1.0   202279             3   \n",
       "2         2      9327.0                3.0        0.0   202279             3   \n",
       "3         2     45918.0                4.0        1.0   202279             3   \n",
       "4         2     30035.0                5.0        0.0   202279             3   \n",
       "\n",
       "   orders_day_of_week  order_hour_of_day  days_since_last_order _merge  \\\n",
       "0                   5                  9                    8.0   both   \n",
       "1                   5                  9                    8.0   both   \n",
       "2                   5                  9                    8.0   both   \n",
       "3                   5                  9                    8.0   both   \n",
       "4                   5                  9                    8.0   both   \n",
       "\n",
       "            product_name  aisle_id  department_id  prices merge_flag  \\\n",
       "0     Organic Egg Whites      86.0           16.0    11.3       both   \n",
       "1  Michigan Organic Kale      83.0            4.0    13.4       both   \n",
       "2          Garlic Powder     104.0           13.0     3.6       both   \n",
       "3         Coconut Butter      19.0           13.0     8.4       both   \n",
       "4      Natural Sweetener      17.0           13.0    13.7       both   \n",
       "\n",
       "      busiest_day  busiest_days busiest_period_of_day  \n",
       "0  Regularly busy  Regular days           Most orders  \n",
       "1  Regularly busy  Regular days           Most orders  \n",
       "2  Regularly busy  Regular days           Most orders  \n",
       "3  Regularly busy  Regular days           Most orders  \n",
       "4  Regularly busy  Regular days           Most orders  "
      ]
     },
     "execution_count": 4,
     "metadata": {},
     "output_type": "execute_result"
    }
   ],
   "source": [
    "ords_prods_merge.head()"
   ]
  },
  {
   "cell_type": "markdown",
   "id": "bca1c8b1-025f-420d-b929-163d7e1e6e93",
   "metadata": {},
   "source": [
    "# Task 2. Find the aggregated mean of the “order_number” column grouped by “department_id” for the entire dataframe"
   ]
  },
  {
   "cell_type": "code",
   "execution_count": 5,
   "id": "72daee33-be1e-4846-8699-b0258508e50f",
   "metadata": {},
   "outputs": [],
   "source": [
    "# Group by department_id and calculate the mean of order_number\n",
    "\n",
    "dept_order_mean = ords_prods_merge.groupby('department_id')['order_number'].mean()"
   ]
  },
  {
   "cell_type": "code",
   "execution_count": 6,
   "id": "ed29fca1-900c-48b9-844e-55091378fdec",
   "metadata": {},
   "outputs": [
    {
     "data": {
      "text/plain": [
       "department_id\n",
       "1.0     15.457838\n",
       "2.0     17.277920\n",
       "3.0     17.170395\n",
       "4.0     17.811403\n",
       "5.0     15.215751\n",
       "6.0     16.439806\n",
       "7.0     17.225802\n",
       "8.0     15.340650\n",
       "9.0     15.895474\n",
       "10.0    20.197148\n",
       "11.0    16.170638\n",
       "12.0    15.887671\n",
       "13.0    16.583536\n",
       "14.0    16.773669\n",
       "15.0    16.165037\n",
       "16.0    17.665606\n",
       "17.0    15.694469\n",
       "18.0    19.310397\n",
       "19.0    17.177343\n",
       "20.0    16.473447\n",
       "21.0    22.902379\n",
       "Name: order_number, dtype: float64"
      ]
     },
     "execution_count": 6,
     "metadata": {},
     "output_type": "execute_result"
    }
   ],
   "source": [
    "# Check output\n",
    "\n",
    "(dept_order_mean)"
   ]
  },
  {
   "cell_type": "markdown",
   "id": "d9d17ba3-e3d0-47d6-8f7d-63a93ddfd48e",
   "metadata": {},
   "source": [
    "# Task 3. Analyze the results"
   ]
  },
  {
   "cell_type": "code",
   "execution_count": 8,
   "id": "863324a7-e358-4fdc-aefe-048a841012f7",
   "metadata": {},
   "outputs": [],
   "source": [
    "# Analysis of Aggregated Means\n",
    "\n",
    "# The results show the mean number of orders per department. \n",
    "\n",
    "# By comparing these means, we can identify which departments have the highest and lowest average order counts. \n",
    "\n",
    "# This insight can help in understanding customer purchasing patterns across different departments."
   ]
  },
  {
   "cell_type": "markdown",
   "id": "e210d091-205d-4a5c-a8d7-ad402b61a9d7",
   "metadata": {},
   "source": [
    "# Task 4. Create a loyalty flag for existing customers"
   ]
  },
  {
   "cell_type": "markdown",
   "id": "3fb8a7ee-2ca6-4480-952e-679d473d6efd",
   "metadata": {},
   "source": [
    "# Create the max_order column"
   ]
  },
  {
   "cell_type": "code",
   "execution_count": 9,
   "id": "216cc03a-953c-49cd-8962-52f577565635",
   "metadata": {},
   "outputs": [],
   "source": [
    "ords_prods_merge['max_order'] = ords_prods_merge.groupby('user_id')['order_number'].transform('max')"
   ]
  },
  {
   "cell_type": "markdown",
   "id": "8834f576-9727-497a-8268-c16df746bdc2",
   "metadata": {},
   "source": [
    "# Create the loyalty_flag column"
   ]
  },
  {
   "cell_type": "code",
   "execution_count": 10,
   "id": "8a1ead86-86ce-4ac7-9f9e-9f4fa5afa293",
   "metadata": {},
   "outputs": [],
   "source": [
    "ords_prods_merge.loc[ords_prods_merge['max_order'] > 40, 'loyalty_flag'] = 'Loyal customer'"
   ]
  },
  {
   "cell_type": "code",
   "execution_count": 11,
   "id": "e1c4a44f-ea13-45fd-82d7-8a1fe9fc6b3a",
   "metadata": {},
   "outputs": [],
   "source": [
    "ords_prods_merge.loc[(ords_prods_merge['max_order'] > 10) & (ords_prods_merge['max_order'] <= 40), 'loyalty_flag'] = 'Regular customer'"
   ]
  },
  {
   "cell_type": "code",
   "execution_count": 12,
   "id": "79a0cf54-75c2-482d-816a-e8401d33d65b",
   "metadata": {},
   "outputs": [],
   "source": [
    "ords_prods_merge.loc[ords_prods_merge['max_order'] <= 10, 'loyalty_flag'] = 'New customer'"
   ]
  },
  {
   "cell_type": "markdown",
   "id": "71f41d42-6b11-48bb-ac14-6dcab452f384",
   "metadata": {},
   "source": [
    "# Verify the creation of the loyalty flag"
   ]
  },
  {
   "cell_type": "code",
   "execution_count": 13,
   "id": "9c175f52-3527-4188-a664-232f8063fb38",
   "metadata": {},
   "outputs": [
    {
     "data": {
      "text/html": [
       "<div>\n",
       "<style scoped>\n",
       "    .dataframe tbody tr th:only-of-type {\n",
       "        vertical-align: middle;\n",
       "    }\n",
       "\n",
       "    .dataframe tbody tr th {\n",
       "        vertical-align: top;\n",
       "    }\n",
       "\n",
       "    .dataframe thead th {\n",
       "        text-align: right;\n",
       "    }\n",
       "</style>\n",
       "<table border=\"1\" class=\"dataframe\">\n",
       "  <thead>\n",
       "    <tr style=\"text-align: right;\">\n",
       "      <th></th>\n",
       "      <th>user_id</th>\n",
       "      <th>max_order</th>\n",
       "      <th>loyalty_flag</th>\n",
       "    </tr>\n",
       "  </thead>\n",
       "  <tbody>\n",
       "    <tr>\n",
       "      <th>0</th>\n",
       "      <td>202279</td>\n",
       "      <td>9</td>\n",
       "      <td>New customer</td>\n",
       "    </tr>\n",
       "    <tr>\n",
       "      <th>1</th>\n",
       "      <td>202279</td>\n",
       "      <td>9</td>\n",
       "      <td>New customer</td>\n",
       "    </tr>\n",
       "    <tr>\n",
       "      <th>2</th>\n",
       "      <td>202279</td>\n",
       "      <td>9</td>\n",
       "      <td>New customer</td>\n",
       "    </tr>\n",
       "    <tr>\n",
       "      <th>3</th>\n",
       "      <td>202279</td>\n",
       "      <td>9</td>\n",
       "      <td>New customer</td>\n",
       "    </tr>\n",
       "    <tr>\n",
       "      <th>4</th>\n",
       "      <td>202279</td>\n",
       "      <td>9</td>\n",
       "      <td>New customer</td>\n",
       "    </tr>\n",
       "  </tbody>\n",
       "</table>\n",
       "</div>"
      ],
      "text/plain": [
       "   user_id  max_order  loyalty_flag\n",
       "0   202279          9  New customer\n",
       "1   202279          9  New customer\n",
       "2   202279          9  New customer\n",
       "3   202279          9  New customer\n",
       "4   202279          9  New customer"
      ]
     },
     "execution_count": 13,
     "metadata": {},
     "output_type": "execute_result"
    }
   ],
   "source": [
    "ords_prods_merge[['user_id', 'max_order', 'loyalty_flag']].head()"
   ]
  },
  {
   "cell_type": "markdown",
   "id": "05cbfa78-bf77-4a75-a2e6-11c4ac410dc2",
   "metadata": {},
   "source": [
    "# Display the value counts for the new 'loyalty_flag' column"
   ]
  },
  {
   "cell_type": "code",
   "execution_count": 14,
   "id": "5d682783-a794-4719-9c8f-b33345280f44",
   "metadata": {},
   "outputs": [
    {
     "data": {
      "text/plain": [
       "loyalty_flag\n",
       "Regular customer    16381472\n",
       "Loyal customer      10679578\n",
       "New customer         5580218\n",
       "Name: count, dtype: int64"
      ]
     },
     "execution_count": 14,
     "metadata": {},
     "output_type": "execute_result"
    }
   ],
   "source": [
    "ords_prods_merge['loyalty_flag'].value_counts()"
   ]
  },
  {
   "cell_type": "markdown",
   "id": "84fd1ab1-2da0-4ee2-9040-b5c22da06e66",
   "metadata": {},
   "source": [
    "# Task 5. Check the basic statistics of product prices for each loyalty category"
   ]
  },
  {
   "cell_type": "markdown",
   "id": "198cc746-2743-4e65-994b-4f9d2ea68027",
   "metadata": {},
   "source": [
    "# Calculate basic statistics"
   ]
  },
  {
   "cell_type": "code",
   "execution_count": 15,
   "id": "8f50620e-ea30-4d0a-a506-798e3477dc17",
   "metadata": {},
   "outputs": [],
   "source": [
    "loyalty_price_stats = ords_prods_merge.groupby('loyalty_flag')['prices'].describe()"
   ]
  },
  {
   "cell_type": "code",
   "execution_count": 17,
   "id": "f7a87e62-93fb-4406-8a1b-dcaaff2087a4",
   "metadata": {},
   "outputs": [
    {
     "data": {
      "text/html": [
       "<div>\n",
       "<style scoped>\n",
       "    .dataframe tbody tr th:only-of-type {\n",
       "        vertical-align: middle;\n",
       "    }\n",
       "\n",
       "    .dataframe tbody tr th {\n",
       "        vertical-align: top;\n",
       "    }\n",
       "\n",
       "    .dataframe thead th {\n",
       "        text-align: right;\n",
       "    }\n",
       "</style>\n",
       "<table border=\"1\" class=\"dataframe\">\n",
       "  <thead>\n",
       "    <tr style=\"text-align: right;\">\n",
       "      <th></th>\n",
       "      <th>count</th>\n",
       "      <th>mean</th>\n",
       "      <th>std</th>\n",
       "      <th>min</th>\n",
       "      <th>25%</th>\n",
       "      <th>50%</th>\n",
       "      <th>75%</th>\n",
       "      <th>max</th>\n",
       "    </tr>\n",
       "    <tr>\n",
       "      <th>loyalty_flag</th>\n",
       "      <th></th>\n",
       "      <th></th>\n",
       "      <th></th>\n",
       "      <th></th>\n",
       "      <th></th>\n",
       "      <th></th>\n",
       "      <th></th>\n",
       "      <th></th>\n",
       "    </tr>\n",
       "  </thead>\n",
       "  <tbody>\n",
       "    <tr>\n",
       "      <th>Loyal customer</th>\n",
       "      <td>10651404.0</td>\n",
       "      <td>10.377144</td>\n",
       "      <td>329.068187</td>\n",
       "      <td>1.0</td>\n",
       "      <td>4.2</td>\n",
       "      <td>7.4</td>\n",
       "      <td>11.2</td>\n",
       "      <td>99999.0</td>\n",
       "    </tr>\n",
       "    <tr>\n",
       "      <th>New customer</th>\n",
       "      <td>5470817.0</td>\n",
       "      <td>13.208437</td>\n",
       "      <td>589.963575</td>\n",
       "      <td>1.0</td>\n",
       "      <td>4.2</td>\n",
       "      <td>7.4</td>\n",
       "      <td>11.3</td>\n",
       "      <td>99999.0</td>\n",
       "    </tr>\n",
       "    <tr>\n",
       "      <th>Regular customer</th>\n",
       "      <td>16282638.0</td>\n",
       "      <td>12.616225</td>\n",
       "      <td>548.767475</td>\n",
       "      <td>1.0</td>\n",
       "      <td>4.2</td>\n",
       "      <td>7.4</td>\n",
       "      <td>11.3</td>\n",
       "      <td>99999.0</td>\n",
       "    </tr>\n",
       "  </tbody>\n",
       "</table>\n",
       "</div>"
      ],
      "text/plain": [
       "                       count       mean         std  min  25%  50%   75%  \\\n",
       "loyalty_flag                                                               \n",
       "Loyal customer    10651404.0  10.377144  329.068187  1.0  4.2  7.4  11.2   \n",
       "New customer       5470817.0  13.208437  589.963575  1.0  4.2  7.4  11.3   \n",
       "Regular customer  16282638.0  12.616225  548.767475  1.0  4.2  7.4  11.3   \n",
       "\n",
       "                      max  \n",
       "loyalty_flag               \n",
       "Loyal customer    99999.0  \n",
       "New customer      99999.0  \n",
       "Regular customer  99999.0  "
      ]
     },
     "execution_count": 17,
     "metadata": {},
     "output_type": "execute_result"
    }
   ],
   "source": [
    "loyalty_price_stats"
   ]
  },
  {
   "cell_type": "markdown",
   "id": "cf491a9e-8fa6-4690-855c-cfd001b83911",
   "metadata": {},
   "source": [
    "# Task 6. Create a spending flag based on the average price of products purchased by each user"
   ]
  },
  {
   "cell_type": "markdown",
   "id": "b5d959ed-2912-4c44-9bc3-8b1e63fdad96",
   "metadata": {},
   "source": [
    "# Step 1. Calculate the mean price for each user"
   ]
  },
  {
   "cell_type": "code",
   "execution_count": 18,
   "id": "18762f69-e119-46c9-a04b-2d0e10d06b46",
   "metadata": {},
   "outputs": [],
   "source": [
    "ords_prods_merge['mean_price'] = ords_prods_merge.groupby('user_id')['prices'].transform('mean')"
   ]
  },
  {
   "cell_type": "markdown",
   "id": "a5f141a9-1157-4242-a722-e1ea803a9ad1",
   "metadata": {},
   "source": [
    "# Step 2. Create the spending_flag column"
   ]
  },
  {
   "cell_type": "code",
   "execution_count": 19,
   "id": "93fd5672-570f-4530-825c-97198eb0fb39",
   "metadata": {},
   "outputs": [],
   "source": [
    "ords_prods_merge.loc[ords_prods_merge['mean_price'] < 10, 'spending_flag'] = 'Low spender'"
   ]
  },
  {
   "cell_type": "code",
   "execution_count": 20,
   "id": "cb8cd227-fe98-4eff-bc42-baafa2908e71",
   "metadata": {},
   "outputs": [],
   "source": [
    "ords_prods_merge.loc[ords_prods_merge['mean_price'] >= 10, 'spending_flag'] = 'High spender'"
   ]
  },
  {
   "cell_type": "markdown",
   "id": "095160fa-03ec-4feb-8d6c-833afda3a3a0",
   "metadata": {},
   "source": [
    "# Verify the creation of the spending flag"
   ]
  },
  {
   "cell_type": "code",
   "execution_count": 23,
   "id": "0157f1f8-72b2-40db-b969-88311edfe179",
   "metadata": {},
   "outputs": [
    {
     "data": {
      "text/html": [
       "<div>\n",
       "<style scoped>\n",
       "    .dataframe tbody tr th:only-of-type {\n",
       "        vertical-align: middle;\n",
       "    }\n",
       "\n",
       "    .dataframe tbody tr th {\n",
       "        vertical-align: top;\n",
       "    }\n",
       "\n",
       "    .dataframe thead th {\n",
       "        text-align: right;\n",
       "    }\n",
       "</style>\n",
       "<table border=\"1\" class=\"dataframe\">\n",
       "  <thead>\n",
       "    <tr style=\"text-align: right;\">\n",
       "      <th></th>\n",
       "      <th>user_id</th>\n",
       "      <th>mean_price</th>\n",
       "      <th>spending_flag</th>\n",
       "    </tr>\n",
       "  </thead>\n",
       "  <tbody>\n",
       "    <tr>\n",
       "      <th>0</th>\n",
       "      <td>202279</td>\n",
       "      <td>8.618889</td>\n",
       "      <td>Low spender</td>\n",
       "    </tr>\n",
       "    <tr>\n",
       "      <th>1</th>\n",
       "      <td>202279</td>\n",
       "      <td>8.618889</td>\n",
       "      <td>Low spender</td>\n",
       "    </tr>\n",
       "    <tr>\n",
       "      <th>2</th>\n",
       "      <td>202279</td>\n",
       "      <td>8.618889</td>\n",
       "      <td>Low spender</td>\n",
       "    </tr>\n",
       "    <tr>\n",
       "      <th>3</th>\n",
       "      <td>202279</td>\n",
       "      <td>8.618889</td>\n",
       "      <td>Low spender</td>\n",
       "    </tr>\n",
       "    <tr>\n",
       "      <th>4</th>\n",
       "      <td>202279</td>\n",
       "      <td>8.618889</td>\n",
       "      <td>Low spender</td>\n",
       "    </tr>\n",
       "  </tbody>\n",
       "</table>\n",
       "</div>"
      ],
      "text/plain": [
       "   user_id  mean_price spending_flag\n",
       "0   202279    8.618889   Low spender\n",
       "1   202279    8.618889   Low spender\n",
       "2   202279    8.618889   Low spender\n",
       "3   202279    8.618889   Low spender\n",
       "4   202279    8.618889   Low spender"
      ]
     },
     "execution_count": 23,
     "metadata": {},
     "output_type": "execute_result"
    }
   ],
   "source": [
    "ords_prods_merge[['user_id', 'mean_price', 'spending_flag']].head()"
   ]
  },
  {
   "cell_type": "markdown",
   "id": "9cee2b95-a8b9-4694-bb46-6f1a8182cf50",
   "metadata": {},
   "source": [
    "# Task 7. Create an order frequency flag"
   ]
  },
  {
   "cell_type": "markdown",
   "id": "165cbea5-7473-4cad-b3f4-7561b1604970",
   "metadata": {},
   "source": [
    "# Step 1. Calculate the median of days_since_prior_order for each user"
   ]
  },
  {
   "cell_type": "code",
   "execution_count": 25,
   "id": "87741c00-c283-409c-9f88-a887eb4163ae",
   "metadata": {},
   "outputs": [],
   "source": [
    "ords_prods_merge['median_days_since_last_order'] = ords_prods_merge.groupby('user_id')['days_since_last_order'].transform('median')"
   ]
  },
  {
   "cell_type": "markdown",
   "id": "f3c149e5-c16b-4e68-b4aa-39cd84907c03",
   "metadata": {},
   "source": [
    "# Step 2. Create the order_frequency_flag column"
   ]
  },
  {
   "cell_type": "code",
   "execution_count": 27,
   "id": "11dcb6e2-28fb-4bb9-bdbf-00615e58c6a2",
   "metadata": {},
   "outputs": [],
   "source": [
    "ords_prods_merge.loc[ords_prods_merge['median_days_since_last_order'] > 20, 'order_frequency_flag'] = 'Non-frequent customer'"
   ]
  },
  {
   "cell_type": "code",
   "execution_count": 28,
   "id": "09652a15-cf20-4225-8d2d-81537d0fb964",
   "metadata": {},
   "outputs": [],
   "source": [
    "ords_prods_merge.loc[(ords_prods_merge['median_days_since_last_order'] > 10) & (ords_prods_merge['median_days_since_last_order'] <= 20), 'order_frequency_flag'] = 'Regular customer'"
   ]
  },
  {
   "cell_type": "code",
   "execution_count": 29,
   "id": "f18375fc-d3ff-43c6-b226-0da903133a60",
   "metadata": {},
   "outputs": [],
   "source": [
    "ords_prods_merge.loc[ords_prods_merge['median_days_since_last_order'] <= 10, 'order_frequency_flag'] = 'Frequent customer'"
   ]
  },
  {
   "cell_type": "markdown",
   "id": "361ef214-960c-49f2-921c-3ac119be15a3",
   "metadata": {},
   "source": [
    "# Verify the creation of the order frequency flag"
   ]
  },
  {
   "cell_type": "code",
   "execution_count": 31,
   "id": "6f711561-03f2-4ff5-a923-3eee6fb74ec2",
   "metadata": {},
   "outputs": [
    {
     "data": {
      "text/html": [
       "<div>\n",
       "<style scoped>\n",
       "    .dataframe tbody tr th:only-of-type {\n",
       "        vertical-align: middle;\n",
       "    }\n",
       "\n",
       "    .dataframe tbody tr th {\n",
       "        vertical-align: top;\n",
       "    }\n",
       "\n",
       "    .dataframe thead th {\n",
       "        text-align: right;\n",
       "    }\n",
       "</style>\n",
       "<table border=\"1\" class=\"dataframe\">\n",
       "  <thead>\n",
       "    <tr style=\"text-align: right;\">\n",
       "      <th></th>\n",
       "      <th>user_id</th>\n",
       "      <th>median_days_since_last_order</th>\n",
       "      <th>order_frequency_flag</th>\n",
       "    </tr>\n",
       "  </thead>\n",
       "  <tbody>\n",
       "    <tr>\n",
       "      <th>0</th>\n",
       "      <td>202279</td>\n",
       "      <td>24.0</td>\n",
       "      <td>Non-frequent customer</td>\n",
       "    </tr>\n",
       "    <tr>\n",
       "      <th>1</th>\n",
       "      <td>202279</td>\n",
       "      <td>24.0</td>\n",
       "      <td>Non-frequent customer</td>\n",
       "    </tr>\n",
       "    <tr>\n",
       "      <th>2</th>\n",
       "      <td>202279</td>\n",
       "      <td>24.0</td>\n",
       "      <td>Non-frequent customer</td>\n",
       "    </tr>\n",
       "    <tr>\n",
       "      <th>3</th>\n",
       "      <td>202279</td>\n",
       "      <td>24.0</td>\n",
       "      <td>Non-frequent customer</td>\n",
       "    </tr>\n",
       "    <tr>\n",
       "      <th>4</th>\n",
       "      <td>202279</td>\n",
       "      <td>24.0</td>\n",
       "      <td>Non-frequent customer</td>\n",
       "    </tr>\n",
       "  </tbody>\n",
       "</table>\n",
       "</div>"
      ],
      "text/plain": [
       "   user_id  median_days_since_last_order   order_frequency_flag\n",
       "0   202279                          24.0  Non-frequent customer\n",
       "1   202279                          24.0  Non-frequent customer\n",
       "2   202279                          24.0  Non-frequent customer\n",
       "3   202279                          24.0  Non-frequent customer\n",
       "4   202279                          24.0  Non-frequent customer"
      ]
     },
     "execution_count": 31,
     "metadata": {},
     "output_type": "execute_result"
    }
   ],
   "source": [
    "ords_prods_merge[['user_id', 'median_days_since_last_order', 'order_frequency_flag']].head()"
   ]
  },
  {
   "cell_type": "markdown",
   "id": "c1cb162f-959f-4dc6-9a06-127c370b42f5",
   "metadata": {},
   "source": [
    "# Task 9. Export your dataframe as a pickle file"
   ]
  },
  {
   "cell_type": "code",
   "execution_count": 32,
   "id": "8380ed84-a2f7-4c92-9f59-291825390605",
   "metadata": {},
   "outputs": [],
   "source": [
    "ords_prods_merge.to_pickle(f'{path}/orders_products_merged_updated.pkl')"
   ]
  },
  {
   "cell_type": "markdown",
   "id": "0fcfe199-10da-4f9a-8f25-f6de1cb25230",
   "metadata": {},
   "source": [
    "# Verify if the exported dataframe was successful or not "
   ]
  },
  {
   "cell_type": "code",
   "execution_count": 38,
   "id": "7d4620f6-9211-4327-908c-6b90166718b1",
   "metadata": {},
   "outputs": [
    {
     "name": "stdout",
     "output_type": "stream",
     "text": [
      "Dataframe exported successfully to: C:\\Users\\New User\\OneDrive\\Documents\\05-2024 Instacart Basket Analysis\\02 Data\\Prepared Data\\02 Data\\Prepared Data\\orders_products_merged_updated.pkl\n"
     ]
    }
   ],
   "source": [
    "print(\"Dataframe exported successfully to:\", export_path)"
   ]
  }
 ],
 "metadata": {
  "kernelspec": {
   "display_name": "Python 3 (ipykernel)",
   "language": "python",
   "name": "python3"
  },
  "language_info": {
   "codemirror_mode": {
    "name": "ipython",
    "version": 3
   },
   "file_extension": ".py",
   "mimetype": "text/x-python",
   "name": "python",
   "nbconvert_exporter": "python",
   "pygments_lexer": "ipython3",
   "version": "3.11.7"
  }
 },
 "nbformat": 4,
 "nbformat_minor": 5
}
